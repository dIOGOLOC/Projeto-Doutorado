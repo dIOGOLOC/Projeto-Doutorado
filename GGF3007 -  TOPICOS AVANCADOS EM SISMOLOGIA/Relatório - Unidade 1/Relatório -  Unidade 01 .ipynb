{
 "cells": [
  {
   "cell_type": "markdown",
   "metadata": {},
   "source": [
    "<h1> Diogo Luiz de Oliveira Coelho </h1>\n",
    "\n",
    "<h1>UNIDADE 01 - Funções de Green Empíricas (14/03/2016 - 30/03/2016)</h1>\n",
    "\n",
    "Esta unidade visa aprofundar os fundamentos teóricos da interferometria sísmica, em particular, como a correlação cruzada do ruído sísmico permite a reconstrução da função de Green empírica (EGF).\n",
    "\n",
    "<h4>Artigo 01</h4>\n",
    "K. Wapenaar et al. (2010). Tutorial on seismic interferometry: Part 1 — Basic principles and applications, Geophysics, 75(5), 75A195-75A209.\n",
    "\n",
    "<h4>Artigo 02</h4>\n",
    "R. Snieder (2004). Extracting the Green’s function from the correlation of coda waves: A derivation based on stationary phase, Phys. Rev. E, 69, 046610.\n",
    "\n",
    "<h4>Artigo 03 </h4>\n",
    "K.G. Sabra et al. (2005). Extracting time-domain Green’s function estimates from ambient seismic noise, Geophys. Res. Lett., 32, L03310, doi:10.1029/2004GL021862.\n",
    "\n",
    "<h4>Artigo 04  </h4>\n",
    "M. Campillo, A. Paul (2003). Long-range correlations in the diffuse seismic coda, Science, 299, 547-549.\n",
    "\n",
    "<h4>Artigo 05    </h4>\n",
    "M.R. Daneshwar et al. (1995). Passive seismic imaging using microearthquakes, Geophysics, 60, 1178-1186.\n",
    "\n",
    "<h4>  Artigo 06  </h4>\n",
    "D. Draganov et al. (2007). Retrieval of reflections from seismic background-noise measurements, Geophys. Res. Lett., 34, L04305, doi:10.1029/2006GL028735."
   ]
  },
  {
   "cell_type": "markdown",
   "metadata": {},
   "source": [
    "<p style=\"text-align:justify\">A utilização da correlação cruzada de ondas Coda ou de Ruído Sísmico Ambiental para recuperar a Função de Green empírica emerge na sismologia com o artigo de Campillo & Paul (2003) e Shapiro & Campillo (2004). A partir desses artigos, uma nova metodologia entrou em ascensão na sismologia. Isto é devido às inúmeras vantagens em relação aos métodos de análise tradicionais que utilizam dados oriundos de sismos. Pode-se comprovar esse aumento expressivo da utilização da metodologia de correlação cruzada através do gráfico abaixo, onde o eixo vertical é o número de publicações com correlação cruzada de Ruído Ambiental (<i>ambient noise crosscorrelation</i>) pelo tempo (fonte: webofscience.com).\n",
    "\n",
    "<img src=\"imgs/published_ambient_noise_crosscorrelation.jpeg\">\n",
    "\n",
    "</p>"
   ]
  },
  {
   "cell_type": "markdown",
   "metadata": {},
   "source": [
    "<p style=\"text-align:justify\"> O primeiro artigo que mostrou que se pode reconstruir a Função de Green empírica (EGF) através da correlação cruzada de ruído é o artigo de Weaver & Lobkis (2001), onde um experimento laboratorial com ondas ultrasônicas em um campo difuso num sistema fechado mostrou que se pode reconstruir a EGF através das correlação cruzadas entre dois pontos internos ao campo de onda. Tais resultados suscitaram Campillo & Paul (2003) a utilizarem essa mesma metodologia em dados oriundos de terremotos, onde as condições do meio não são controladas e nem favoráveis. Para escolher os dados para comprovar a teoria, selecionou-se uma região sismicamente ativa com terremotos com magnitude acima de 4.5 e com registros dos eventos em banda larga  com uma boa qualidade. Após as correlações cruzadas das componentes tanto verticais quanto horizontais das ondas Coda, resultantes do espalhamento causado por pequenas heterogeneidades litosféricas, para reconstruir a Função de Green empírica, pôde-se comprovar a veracidade da metodologia porque a onda emergente da correlação é muito semelhante a um onda de superfície. Já Shapiro & Campillo (2004) testaram se as Funções de Green podiam ser extraı́das do ruı́do sı́smico ambiental, neste teste eles selecionaram um perı́odo relativamente calmo no nı́vel de atividade sı́smica mundial, onde não ocorreram sismos com magnitude maior que 7. Com esses registos contı́nuos da componente vertical de duas estações nos Estados Unidos, calcularam a correlação cruzada para diferentes bandas de perı́odo e calcularam a velocidade de grupo das ondas de superfı́cie. Comparando as caracterı́sticas de dispersão do sinal emergente com resultados obtidos de métodos que utilizam dados de sismos para o mesmo trajeto, pôde-se verificar que os resultados obtidos para os dois casos são semelhantes. A teoria sugerida para explicar o sinal emergente da correlação cruzada, tanto por Campillo & Paul (2003) quanto por Shapiro & Campillo (2004), mostrou-se falha quanto ao caráter difuso do campo de onda. Estes dois trabalhos assumem tanto paras ondas Coda quanto para o ruído ambiental que o campo de onda gerado é difuso, no entanto, Snieder (2004) mostra que há um problema conceitual que para o caso de ondas Coda, refutando essa hipótese de equipartição de energia mostrando que os modos normais das ondas de superfície carregam mais energia que os harmônicos superiores. Toda a fundamentação teórica do método foi bem detalhada por Wapenaar et al. (2010), neste artigo há uma grande compilação teórica tanto para onda direta quanto para a onda refletida, além de algumas aplicações práticas, tanto para fontes sísmicas ativas quanto para passivas. </p>"
   ]
  },
  {
   "cell_type": "markdown",
   "metadata": {},
   "source": [
    "<p style=\"text-align:justify\">\n",
    "Wapenaar et al. (2010) em seu tutorial mostra que a correlação cruzada do registro sísmico entre dois receptores gera-se uma fonte virtual, um receptor é considerado uma fonte em relação ao outro. Este método foi nomeado de interferometria sísmica. Neste mesmo tutorial clafissica-se a interferometria sísmica de acordo com o tipo de fonte, passiva ou fonte controlada, e em relação ao tipo de onda obtida, direta ou refletida.\n",
    "Para a interferometria da onda direta, a EGF reconstruída pela correlação cruzada entre dois receptores foi detalhamente explicada por Snieder (2004) e por Wapenaar et al. (2010). Nestes artigos recupera-se as EGF através de um processo de interferência construtiva das ondas que estão se propagando entre dois receptores. Snieder (2004) explicita que a Coda possui a contribuição de inúmeros <i>\"scatterers\"</i> que circundam os receptores, e estes em sua maioria não são correlacionados, exceto aqueles que estão alinhados com os receptores. Tanto Snieder (2004), quanto Wapenaar et al. (2010) mostram que após a derivação os termos cruzados não são correlacionáveis, entretanto na região em que os <i>\"scatterers\"</i> estão alinhadas com os receptores há uma corelação entre as fontes, logo há uma interferência construtiva. Tal região é chamada por Wapenaar et al. (2010) como Zona de Fresnel. Nesta zona é que estão localizadas as fontes, <i>\"scatterers\"</i> para o caso de onda Coda, que geram o sinal recuperado pela correlação. A classificação de Wapenaar et al. (2010) feita de acordo com o tipo fonte é importante, pois influencia diretamente o processamento dos dados, pois quando se trata de uma fonte controlada (ativa), deve-se fazer as correlações cruzadas para cada fonte separadamente, e após isso fazer o somatório das correlações para obter as EGF. Isto difere para o caso do Ruído Sísmico Ambiental, pois as fontes não são correlacionáveis, logo a correlação cruzada pode ser feita entre todo o registro sísmico. Wapenaar et al. (2010) mostra que para dois receptores em um campo de ruído gerado por uma fonte desconhecida em um meio com velocidade de propagação desconhecido, obtem-se uma versão da Função de Green limitada por bandas de frequência. Portanto, uma estimativa da velocidade de propagação pode ser obtida dividindo a distância entre os receptores pelo tempo de viagem estimado entre os receptores. Essa estimativa ilustra que a interferometria da onda direta é muito utilizada para a tomografia, como é mostrado em Shapiro & Campillo (2004), Sabra et al. (2005), Bensen et al. (2007) e Wapenaar et al. (2010). O processamento da correlação cruzada do Ruído Sísmico Ambiental foi mostrado de forma mais experimental por Shapiro & Campillo (2004) e Sabra et al. (2005), porém somente Bensen et al. (2007) apresentou e comentou detalhadamente alguns aspectos importantes da metologia aplicada, como o tratamento prévio dos dados, a filtragem temporal e espectral das correlações cruzadas, dentre outros aspectos. As EGF reconstruídas são utilizadas para calcular a curva de dispersão das velocidade de grupo através da análise frequência-tempo de Levshin et al. (1989), onde vários filtros gaussianos estreitos são aplicados nas EGF dos pares de estações. Das curvas de dispersao pode-se fazer a tomografia das ondas de superfície e ver como esta velocidade de grupo está distribuída espacialmente, como mostra Bensen et al. (2007) e Wapenaar et al. (2010). Na classificação de Wapenaar et al. (2010), a inteferometria da onda refletida é aquela que reconstrói a resposta da reflexão através da correlação cruzada dos registros de ruído ou de microtremores, como mostram os trabalhos de Daneshwar et al. (1995), usam microtremores (sismos rasos de 8 a 10 km de profundidade) oriundos de uma zona de rift próximo ao Monte Kilauea no Hawaii para imagear a subsuperfície local, e Draganov et al. (2007),  utilizam o ruído ambiental para para obter a resposta de reflexão e com isso inferir as estruturas locais em uma dada região. Novamente o tipo de fonte é importante para delinear o processamento dos dados, principalmente como se processar os dados. Os trabalhos de Daneshwar et al. (1995) e de Draganov et al. (2007) exemplificam novamente essa utilização de fontes distintas para se analisar a estruturação geológica local. O trabalho de Daneshwar et al. (1995) utiliza-se da autocorrelação de varios eventos sísmicos rasos em uma mesma estação para recuperar a resposta de reflexão, e com isso imagear em subsuperfície. Pois como mostra Wapenaar et al. (2010), a autocorrelação de medidas de ruído passivo proporciona a resposta de reflexão de uma fonte transiente na superfície. Já Draganov et al. (2007) recupera a resposta de reflexão através da correlação cruzada entre dois receptores, o resultado será a Função de Green convoluída com a auto-correlação das inúmeras fontes de ruído em subsuperfície. Lembrando que a distribuição de fontes pode ser randômica tanto espacialmente quanto em profundidade, e isto não causará nenhuma problema na recuperação da resposta de reflexão, porque para o processo de correlação cruzada apenas a diferença de tempo importa (Wapenaar et al. (2010)).\n",
    "</p>"
   ]
  },
  {
   "cell_type": "markdown",
   "metadata": {},
   "source": [
    "<p style=\"text-align:justify\">\n",
    "O Ruído Sísmico Ambiental é composto majoritariamente por ondas de superfície, devido a isso grande parte dos trabalhos envolvendo correlação de ruído ambiental é relacionado com tomografia de ondas superfície, porém existem trabalhos que recuperam e utilizam as ondas de corpos oriundas do ruído ambiental. No contexto de análisar as correlações cruzadas em Função do Ruído Ambiental o trabalho de Stehly et al. (2006) é uma grande referência no assunto. O trabalho analisa a distribuição das fontes de ruı́do sı́smico ambiental e mostra que tais fontes são bastante dependende de outros fatores, como sazonalidade climática. Outra questão que é bastante discutida é a distribuição espacial das fontes e como ela interfere na recuperação da EGF. Se as fontes fossem azimutalmente bem distribuı́das as correlações cruzadas seriam simétricas. Stehly et al. (2006) mostram a procedência das fontes de rúido sı́smico ambiental e explica que as fontes possuem duas bandas espectrais, estas são separadas em primárias (10-20 segundos) e secundárias (5-10 segundos), como também mostra Longuet-Higgins (1950). O ruı́do sı́smico de fundo de alta frequência, microssismo secundário, é gerado pela interação do oceano com a costa, este tipo de fonte não sofre grandes variações por efeitos sazonais, diferentemente do microssismo primário que exibe uma variação sazonal forte. Portanto a discrepância entre as amplitudes das partes causal e acausal da correlação está relacionada com a posição das estações em relação ao oceano, como mostra Stehly et al. (2006) e Wapenaar et al. (2010). Como pode ser visto na figura abaixo, onde a figura a) representa a correlação cruzada do ruído segundo os meses do ano de um ano de dado entre as estações MLAC-PHL. A figura b) mostra a localização das estações em relação ao oceano e as setas representam a parte causal (MLAC-PHL - azul) e acausal (PHL-MLAC - vermelho) para os períodos de 10-20 (microssismos primários).\n",
    "\n",
    "<img src=\"imgs/sthely_ruido.jpeg\">\n",
    "\n",
    "</p>"
   ]
  },
  {
   "cell_type": "markdown",
   "metadata": {},
   "source": [
    "<p style=\"text-align:justify\">\n",
    "Após 13 anos da apresentação dessa nova metodologia ao mundo científico (Campillo & Paul (2003)), a correlação cruzada de ruído para recuperar a EGF está consolidada, e cada vez é mais desenvolvida e aprimorada. A utilização do ruído ambiental se expandiu devido a algumas vantagens sobre as fontes ativas. Shapiro & Campillo (2004) lista as seguintes vantagens: medidas podem ser realizadas em qualquer direção de propagação e não estão limitadas à geometria fonte-receptor; não dependem da localização da fonte; a zona de sensibilidade destas medições situa-se na região entre as duas estações; pode-se analisar pequenos perı́odos se existirem estações relativamente próximas umas das outras; dentre outros. Essas características citadas por Shapiro & Campillo (2004) possuem ressalvas, pois existe uma grande dependência azimutal das correlações cruzadas com as fontes de ruído, como visto nas seções anteriores, porém como a terra a coberta em sua maioria por águas oriundas do oceano, pode-se dizer que há uma grande cobertura dessas fontes no planeta. É notório que com o passar do tempo a metodologia utilizava foi sendo melhorava e acertada, principalmente na questão que tange a recuperação das EGF, levando a um bom entendimento de quais são as limitações e vantagens. </p>"
   ]
  },
  {
   "cell_type": "markdown",
   "metadata": {},
   "source": [
    "<h2 style=\"text-align:center\">Referências Bibliográficas</h2>\n",
    "\n",
    "<p style=\"text-align:justify\">\n",
    "Bensen, G. D., M. H. Ritzwoller, M. P. Barmin, A. L. Levshin, F. Lin, M. P. Moschetti, N. M. Shapiro, and Y. Yang, 2007, Processing seismic ambient noise data to obtain reliable broad-band surface wave dispersion measure-\n",
    "ments: Geophysical Journal International, 169, 1239–1260.</p>\n",
    "<p style=\"text-align:justify\">\n",
    "Levshin, A. L., T. B. Yanocskaya, A. V. Lander, B. G. Bukchin, M. P. Barmin, L. I. Ratnikova, and E. N. Its (1989), Seismic Surface Waves in a Laterally Inhomogeneous Earth, edited by V. I. Keilis-Borok, Kluwer Acad., Norwell, Mass.</p>\n",
    "<p style=\"text-align:justify\">\n",
    "Longuet-Higgins, M. S., 1950, A theory for the generation of microseisms: Philosophical Transactions of the Royal Society of London Series A, 243,1–35.</p>\n",
    "<p style=\"text-align:justify\">\n",
    "Shapiro, N. M., and M. Campillo, 2004, Emergence of broadband Rayleigh waves from correlations of the ambient seismic noise: Geophysical Research Letters, 31, L07614-1–L07614-4.</p>\n",
    "<p style=\"text-align:justify\">\n",
    "Stehly, L., Campillo, M., Shapiro, N. M., 2006, “A study of the seismic noise from its long-range correlation properties”, v. 111, pp. B10306. ISSN: 2156-2202. doi: 10.1029/2005JB004237.</p>"
   ]
  }
 ],
 "metadata": {
  "kernelspec": {
   "display_name": "Python 3",
   "language": "python",
   "name": "python3"
  },
  "language_info": {
   "codemirror_mode": {
    "name": "ipython",
    "version": 3
   },
   "file_extension": ".py",
   "mimetype": "text/x-python",
   "name": "python",
   "nbconvert_exporter": "python",
   "pygments_lexer": "ipython3",
   "version": "3.5.1"
  }
 },
 "nbformat": 4,
 "nbformat_minor": 0
}
