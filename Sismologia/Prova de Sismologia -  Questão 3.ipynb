{
 "cells": [
  {
   "cell_type": "markdown",
   "metadata": {},
   "source": [
    "# Aluno: Diogo Luiz de Oliveira Coelho"
   ]
  },
  {
   "cell_type": "markdown",
   "metadata": {},
   "source": [
    "3) (3,0\tPONTOS)\tConsidere um meio constituído por duas camada de espessura $h_{1}$ = 12 km e velocidade de onda P $\\alpha _{1}$ = 7 km/s e de espessura $h_{2}$ = 18 km e velocidade de onda P $\\alpha _{2}$= 6 km/s, respectivamente, acima de um semi-espaço de velocidade de onda P $\\alpha _{3}$ = 8 km/s. Há uma fonte sísmica a uma profundidade de $h$ = 6 km abaixo da superfície. Para uma estação localizada a 100 km de distância epicentral, calcular:\n",
    "\n",
    "![caption](images/esquema_3)\n",
    "\n",
    "\n",
    "(i) O tempo de percurso da onda P refletida na base da 1ª camada.\n",
    "\n",
    "(ii) O tempo de percurso da onda P refletida na base da 2ª camada.\n",
    "\n",
    "(iii) O tempo de percurso da onda refratada criticamente."
   ]
  },
  {
   "cell_type": "code",
   "execution_count": 1,
   "metadata": {
    "collapsed": true
   },
   "outputs": [],
   "source": [
    "import numpy as np"
   ]
  },
  {
   "cell_type": "markdown",
   "metadata": {
    "collapsed": true
   },
   "source": [
    "R:\n",
    "---\n",
    "\n",
    "## (i) O tempo de percurso da onda P refletida na base da 1ª camada.\n",
    "\n",
    "Utilizando a Figura original traçou-se o raio de uma onda P incidindo sobre uma camada horizontal e sua posterior reflexão.\n",
    "\n",
    "![caption](images/reflect_wave)\n",
    "\n",
    "\n",
    "Segundo o esquema acima pode-se calcular o percurso da onda P($P_{r1}$) refletida na base da 1ª camada através do teorema de pitágoras:\n",
    "\n",
    "\n",
    "(cateto oposto) ² + (cateto adjacente) ² = (Hipotenusa) ² \n",
    "\n",
    "$(h_{1}-h+h_{1}-h+h)^2 + (x)^2 = (P_{r1})²$\n",
    "\n",
    "$(2h_{1}-h)^2 + (x)^2 = (P_{r1})²$\n",
    "\n",
    "$P_{r1} = \\sqrt{(2h_{1}-h)^2 + (x)^2}$\n",
    "\n",
    "\n",
    "Sendo $h_{1} = 12 km $, $h = 6 km$ e $X = 100 km $, temos:  \n",
    "\n",
    "$P_{r1} = \\sqrt{(2.12-6)^2 + (100)^2}$"
   ]
  },
  {
   "cell_type": "code",
   "execution_count": 2,
   "metadata": {
    "collapsed": false
   },
   "outputs": [
    {
     "data": {
      "text/plain": [
       "101.6070863670443"
      ]
     },
     "execution_count": 2,
     "metadata": {},
     "output_type": "execute_result"
    }
   ],
   "source": [
    "np.sqrt((2*12-6)**2 + (100)**2)"
   ]
  },
  {
   "cell_type": "markdown",
   "metadata": {
    "collapsed": true
   },
   "source": [
    "Para o cálculo do tempo de percurso da onda P refletida ($T_{r1}$) na base da 1ª camada é feita a divisão do percurso pela velocidade da onda P na 1ª camada:\n",
    "\n",
    "$T_{r1} = \\frac{P_{r1}}{\\alpha _{1}} $\n",
    "\n",
    "sendo $\\alpha _{1} = 7 km/s$"
   ]
  },
  {
   "cell_type": "code",
   "execution_count": 3,
   "metadata": {
    "collapsed": false
   },
   "outputs": [
    {
     "data": {
      "text/plain": [
       "14.5152980524349"
      ]
     },
     "execution_count": 3,
     "metadata": {},
     "output_type": "execute_result"
    }
   ],
   "source": [
    "101.6070863670443/7\n"
   ]
  },
  {
   "cell_type": "markdown",
   "metadata": {},
   "source": [
    "### Portanto tempo de percurso da onda P refletida ($T_{r1}$) é 14.51 segundos.\n",
    "\n",
    "____________________________________________"
   ]
  },
  {
   "cell_type": "markdown",
   "metadata": {},
   "source": [
    "## (ii) O tempo de percurso da onda P refletida na base da 2ª camada.\n",
    "\n",
    "Utilizando a Figura original traçou-se o raio de uma onda P incidindo sobre a 1ª camada horizontal e sendo refratada, logo após incide sobre a 2ª camada e é refletida.\n",
    "\n",
    "![caption](images/reflect_wave_2)"
   ]
  },
  {
   "cell_type": "markdown",
   "metadata": {},
   "source": [
    "Devido ao grande número de incógnitas, como $i_{1}$,$i_{1}$, $A$,$B$, $C$ e $D$, utilizou-se relações trigonométricas para montar um sistema capaz de resolver estas incógnitas. Com isso temos que :\n",
    "\n",
    "$cos i_{1} = \\frac{(h_{1}-h)}{A}$ (1)\n",
    "\n",
    "$sin i_{2} = \\frac{X_{1}/2}{B}$ (2)\n",
    "\n",
    "$sin i_{2} = \\frac{X_{1}/2}{C}$ (3)\n",
    "\n",
    "$cos i_{1} = \\frac{h_{1}}{D}$ (4)\n",
    "\n",
    "Pela Lei de Snell temos:\n",
    "\n",
    "$\\frac{sin i_{1}}{\\alpha _{1}} = \\frac{sin i_{2}}{\\alpha _{2}}$ (5)\n",
    "\n",
    "Pela Lei dos cossenos temos:\n",
    "\n",
    "$X_{1}^2 = B^2 + C^2 - 2 B . C. cos (2i_{2})$ (6)\n",
    "\n",
    "Pela semelhança de triângulos podemos ver que $B$ = $C$ (7).\n",
    "\n",
    "Pelo teorema de pitágoras teremos:\n",
    "\n",
    "$(X_{1}/2)^2 = B^2 + h_{2}^2$ (8)"
   ]
  },
  {
   "cell_type": "markdown",
   "metadata": {},
   "source": [
    "Substituindo (7) em (6) temos:\n",
    "\n",
    "$X_{1}^2 = B^2 + B^2 - 2 B . B. cos (2i_{2})$ \n",
    "\n",
    "$X_{1}^2 = 2B^2 - 2 B^2. cos (2i_{2})$\n",
    "\n",
    "$X_{1}^2 = 2B^2(1 - cos (2i_{2}))$\n",
    "\n",
    "Utilizando a identidade trigonométrica que $cos (2i_{2}) = 2cos^2 (i_{2}) - 1)$ temos:\n",
    "\n",
    "$X_{1}^2 = 2B^2(1 - 2cos^2 (i_{2}) - 1))$\n",
    "\n",
    "$X_{1}^2 = 2B^2(2cos^2 (i_{2}))$\n",
    "\n",
    "$X_{1}^2 = 2B^2(2cos^2 (i_{2}))$\n",
    "\n",
    "$X_{1}^2 = 4B^2cos^2 (i_{2}))$, simplificando temos:\n",
    "\n",
    "### $X_{1} = 2Bcos (i_{2})$ \n",
    "\n",
    "Pela figura podemos encontrar que $cos i_{2} = \\frac{h_{2}}{B}$, substituindo na equação acima teremos:\n",
    "\n",
    "$X_{1} = 2B\\frac{h_{2}}{B}$ \n",
    "\n",
    "### $X_{1} = 2h_{2}$"
   ]
  },
  {
   "cell_type": "markdown",
   "metadata": {},
   "source": [
    "Pela equação (8) temos:\n",
    "\n",
    "$B^2 = (X_{1}/2)^2 + h_{2}^2$, substituindo o valor de $X_{1}$:\n",
    "\n",
    "$B^2 = (2h_{2}/2)^2 + h_{2}^2$:\n",
    "\n",
    "$B^2 = h_{2}^2 + h_{2}^2$, então:\n",
    "\n",
    "$B^2 = 2h_{2}^2$, simplificando:\n",
    "\n",
    "$B = \\sqrt{2}h_{2}$, portanto $C=\\sqrt{2}h_{2}$.  \n",
    "\n",
    "$B = \\sqrt{2}*18$ e $C=\\sqrt{2}*18$.  "
   ]
  },
  {
   "cell_type": "code",
   "execution_count": 4,
   "metadata": {
    "collapsed": false
   },
   "outputs": [
    {
     "data": {
      "text/plain": [
       "25.455844122715714"
      ]
     },
     "execution_count": 4,
     "metadata": {},
     "output_type": "execute_result"
    }
   ],
   "source": [
    "np.sqrt(2)*18"
   ]
  },
  {
   "cell_type": "markdown",
   "metadata": {},
   "source": [
    "### $B = 25.45 km$ e $C=25.45 km$.  "
   ]
  },
  {
   "cell_type": "markdown",
   "metadata": {},
   "source": [
    "Calculando a equação (2):\n",
    "\n",
    "$sin i_{2} = \\frac{X_{1}/2}{B}$, substituindo os valores temos:\n",
    "\n",
    "$sin i_{2} = \\frac{2h_{2}}{2\\sqrt{2}h_{2}}$\n",
    "\n",
    "$sin i_{2} = \\frac{1}{\\sqrt{2}}$\n",
    "\n",
    "$i_{2} = arcsin (\\frac{1}{\\sqrt{2}})$"
   ]
  },
  {
   "cell_type": "code",
   "execution_count": 5,
   "metadata": {
    "collapsed": false
   },
   "outputs": [
    {
     "data": {
      "text/plain": [
       "0.70710678118654746"
      ]
     },
     "execution_count": 5,
     "metadata": {},
     "output_type": "execute_result"
    }
   ],
   "source": [
    "1/np.sqrt(2)"
   ]
  },
  {
   "cell_type": "markdown",
   "metadata": {},
   "source": [
    "$i_{2} = arcsin (0.70710678118654746)$\n",
    "\n",
    "$i_{2} = 45 ^{\\circ}$"
   ]
  },
  {
   "cell_type": "markdown",
   "metadata": {},
   "source": [
    "Pela lei de Snell (5) temos:\n",
    "\n",
    "$\\frac{sin i_{1}}{\\alpha _{1}} = \\frac{sin i_{2}}{\\alpha _{2}}$ , substituindo os valores:\n",
    "\n",
    "$\\frac{sin i_{1}}{7} = \\frac{sin 45 ^{\\circ}}{6}$ \n",
    "\n",
    "$sin i_{1} = \\frac{7sin 45 ^{\\circ}}{6}$, calculando:\n",
    "\n",
    "$sin i_{1} = \\frac{7*0.70710678}{6}$, calculando:"
   ]
  },
  {
   "cell_type": "code",
   "execution_count": 6,
   "metadata": {
    "collapsed": false
   },
   "outputs": [
    {
     "data": {
      "text/plain": [
       "0.8249579100000001"
      ]
     },
     "execution_count": 6,
     "metadata": {},
     "output_type": "execute_result"
    }
   ],
   "source": [
    "7*0.70710678/6"
   ]
  },
  {
   "cell_type": "markdown",
   "metadata": {},
   "source": [
    "$sin i_{1} = 0.8249579100000001$\n",
    "\n",
    "$i_{1} = arcsin(0.8249579100000001)$\n",
    "\n",
    "$i_{1} = 55.58 ^{\\circ}$"
   ]
  },
  {
   "cell_type": "markdown",
   "metadata": {},
   "source": [
    "Calculando A através de (1):\n",
    "\n",
    "$A = \\frac{(h_{1}-h)}{cos i_{1}}$, substituindo:\n",
    "\n",
    "$A = \\frac{(12-6)}{cos (55.58 ^{\\circ})}$\n",
    "\n",
    "$A = \\frac{6}{0.56525499}$"
   ]
  },
  {
   "cell_type": "code",
   "execution_count": 7,
   "metadata": {
    "collapsed": false
   },
   "outputs": [
    {
     "data": {
      "text/plain": [
       "10.614678518804407"
      ]
     },
     "execution_count": 7,
     "metadata": {},
     "output_type": "execute_result"
    }
   ],
   "source": [
    "6/0.56525499"
   ]
  },
  {
   "cell_type": "markdown",
   "metadata": {},
   "source": [
    "### $A = 10.61 km$"
   ]
  },
  {
   "cell_type": "markdown",
   "metadata": {},
   "source": [
    "Calculando D através de (4):\n",
    "\n",
    "$cos i = \\frac{h_{1}}{D}$,substituindo:\n",
    "  \n",
    "$cos (55.58 ^{\\circ}) = \\frac{12}{D}$\n",
    "\n",
    "$D = \\frac{12}{0.56525499}$"
   ]
  },
  {
   "cell_type": "code",
   "execution_count": 8,
   "metadata": {
    "collapsed": false
   },
   "outputs": [
    {
     "data": {
      "text/plain": [
       "21.229357037608814"
      ]
     },
     "execution_count": 8,
     "metadata": {},
     "output_type": "execute_result"
    }
   ],
   "source": [
    "12/0.56525499"
   ]
  },
  {
   "cell_type": "markdown",
   "metadata": {},
   "source": [
    "### $D = 21.22 km$"
   ]
  },
  {
   "cell_type": "markdown",
   "metadata": {},
   "source": [
    "Para calcular o tempo de percurso é necessário dividir cada trajeto pela velocidade de cada camada, e no final fazer o somatório dos tempos para encontrar o tempo total. \n",
    "\n",
    "$T_{r2} = \\frac{A}{\\alpha _{1}} + \\frac{B}{\\alpha _{2}} + \\frac{C}{\\alpha _{2}} + \\frac{D}{\\alpha _{1}} $, substituindo os valores de cada intervalo teremos:\n",
    "\n",
    "$T_{r2} = \\frac{10.61}{7} + \\frac{25.45}{6} + \\frac{25.45}{6} + \\frac{21.22}{7} $, calculando:"
   ]
  },
  {
   "cell_type": "code",
   "execution_count": 16,
   "metadata": {
    "collapsed": false
   },
   "outputs": [
    {
     "data": {
      "text/plain": [
       "13.03047619047619"
      ]
     },
     "execution_count": 16,
     "metadata": {},
     "output_type": "execute_result"
    }
   ],
   "source": [
    "10.61/7 + 25.45/6 + 25.45/6 + 21.22/7"
   ]
  },
  {
   "cell_type": "markdown",
   "metadata": {},
   "source": [
    "### Portanto tempo de percurso da onda P refletida ($T_{r2}$) é 13.03 segundos."
   ]
  },
  {
   "cell_type": "markdown",
   "metadata": {},
   "source": [
    "## (iii) O tempo de percurso da onda refratada criticamente.\n",
    "\n",
    "Através da Lei de Snell podemos calcular os ângulos da onda incidente na 1ª camada ($i$) e o ângulo crítico ($i_{c}$) da 2ª camada segundo o esquema abaixo:\n",
    "\n",
    "\n",
    "![caption](images/critical_wave)\n",
    "\n",
    "\n",
    "$\\frac{sin i}{\\alpha _{1}} = \\frac{sin i_{c}}{\\alpha _{2}} = \\frac{1}{\\alpha _{3}}$, \n",
    "\n",
    "sendo $\\alpha _{1} = 7 km/s$, $\\alpha _{2} = 6 km/s$ e $\\alpha _{3} = 8km/s $."
   ]
  },
  {
   "cell_type": "markdown",
   "metadata": {},
   "source": [
    "Calculando o ângulo de incidência:\n",
    "\n",
    "$\\frac{sin i}{\\alpha _{1}} = \\frac{1}{\\alpha _{3}}$\n",
    "\n",
    "$\\frac{sin i}{7} = \\frac{1}{8}$\n",
    "\n",
    "$\\sin i = \\frac{7}{8}$\n",
    "\n",
    "$i = arcsin(\\frac{7}{8})$\n",
    "\n",
    "$i = arcsin(0.875)$\n",
    "\n",
    "$i = 61.04^{\\circ}$\n",
    "__________"
   ]
  },
  {
   "cell_type": "markdown",
   "metadata": {},
   "source": [
    "$\\frac{sin i_{c}}{\\alpha _{2}} = \\frac{1}{\\alpha _{3}}$\n",
    "\n",
    "$\\frac{sin i_{c}}{6} = \\frac{1}{8}$\n",
    "\n",
    "$\\sin i_{c} = \\frac{6}{8}$\n",
    "\n",
    "$i_{c} = arcsin(\\frac{6}{8})$\n",
    "\n",
    "$i_{c} = arcsin(0.75)$\n",
    "\n",
    "$i_{c} = 48.59 ^{\\circ}$\n",
    "\n",
    "_____________________________"
   ]
  },
  {
   "cell_type": "markdown",
   "metadata": {},
   "source": [
    "Para se calcular o tempo de percurso para a onda P refratada criticamente ($T_{c}$) deve-se somar todos os trajetos informados na figura acima (a até e) e dividí-los pela velocidade de cada camada.\n",
    "\n",
    "$T_{c} = \\frac{A}{\\alpha _{1}} + \\frac{B}{\\alpha _{2}} + \\frac{C}{\\alpha _{3}} + \\frac{D}{\\alpha _{2}} + \\frac{E}{\\alpha _{1}}$\n",
    "\n",
    "Calculando cada segmento por trigonometria:"
   ]
  },
  {
   "cell_type": "markdown",
   "metadata": {},
   "source": [
    "$cos i = \\frac{h_{1}-h}{A}$\n",
    "\n",
    "$A = \\frac{h_{1}-h}{cos i}$\n",
    "\n",
    "$A = \\frac{12-6}{cos (61.04 ^{\\circ})}$\n",
    "\n",
    "$A = \\frac{6}{0.4841989}$"
   ]
  },
  {
   "cell_type": "code",
   "execution_count": 10,
   "metadata": {
    "collapsed": false
   },
   "outputs": [
    {
     "data": {
      "text/plain": [
       "12.391601880962556"
      ]
     },
     "execution_count": 10,
     "metadata": {},
     "output_type": "execute_result"
    }
   ],
   "source": [
    "6/0.4841989"
   ]
  },
  {
   "cell_type": "markdown",
   "metadata": {},
   "source": [
    "### $A = 12.39 km$"
   ]
  },
  {
   "cell_type": "markdown",
   "metadata": {},
   "source": [
    "$cos i_{c} = \\frac{h_{2}}{B}$\n",
    "\n",
    "$B = \\frac{h_{2}}{cos i_{c}}$\n",
    "\n",
    "$B = \\frac{18}{cos (48.59 ^{\\circ})}$\n",
    "\n",
    "$B = \\frac{18}{0.66144277}$"
   ]
  },
  {
   "cell_type": "code",
   "execution_count": 11,
   "metadata": {
    "collapsed": false
   },
   "outputs": [
    {
     "data": {
      "text/plain": [
       "27.213238720562327"
      ]
     },
     "execution_count": 11,
     "metadata": {},
     "output_type": "execute_result"
    }
   ],
   "source": [
    "18/0.66144277"
   ]
  },
  {
   "cell_type": "markdown",
   "metadata": {},
   "source": [
    "### $B = 27.21 km$\n",
    "________________"
   ]
  },
  {
   "cell_type": "markdown",
   "metadata": {},
   "source": [
    "Para o cálculo de $C$ fez-se a diferença entre a distância epicentral ($X$)\n",
    " e o segmento pontilhado vermelhor na figura, então:\n",
    " \n",
    "$C = X - ([sin i.A] + [sin i_{c}.B] + [sin i_{c}.D] + [sin i.E])$\n",
    "\n",
    "$C = 100 - ([sin(61.04^{\\circ}) *12.39] + [sin (48.59^{\\circ})*27.21] + [sin (48.59^{\\circ})*27.21] + [sin (61.04^{\\circ})*24.78])$\n",
    "\n",
    "$C = 100 - ([0.87495795 *12.39] + [0.74999564*27.21] + [0.74999564*27.21] + [0.87495795*24.78])$"
   ]
  },
  {
   "cell_type": "code",
   "execution_count": 12,
   "metadata": {
    "collapsed": false
   },
   "outputs": [
    {
     "data": {
      "text/plain": [
       "26.66305026970001"
      ]
     },
     "execution_count": 12,
     "metadata": {},
     "output_type": "execute_result"
    }
   ],
   "source": [
    "100-(0.87495795 *12.39 + 0.74999564*27.21 + 0.74999564*27.21 + 0.87495795*24.78)"
   ]
  },
  {
   "cell_type": "markdown",
   "metadata": {},
   "source": [
    "### C = 26.66 km\n",
    "__________________"
   ]
  },
  {
   "cell_type": "markdown",
   "metadata": {},
   "source": [
    "Por semelhança de triângulos vê-se que $B$ é igual a $ D$, logo:\n",
    "### $D = 27.21 km$.\n",
    "____________"
   ]
  },
  {
   "cell_type": "markdown",
   "metadata": {},
   "source": [
    "$cos i = \\frac{h_{1}}{E}$\n",
    "\n",
    "$E = \\frac{h_{1}}{cos i}$\n",
    "\n",
    "$E = \\frac{12}{cos (61.04 ^{\\circ})}$\n",
    "\n",
    "$E = \\frac{12}{0.4841989}$"
   ]
  },
  {
   "cell_type": "code",
   "execution_count": 13,
   "metadata": {
    "collapsed": false
   },
   "outputs": [
    {
     "data": {
      "text/plain": [
       "24.78320376192511"
      ]
     },
     "execution_count": 13,
     "metadata": {},
     "output_type": "execute_result"
    }
   ],
   "source": [
    "12/0.4841989"
   ]
  },
  {
   "cell_type": "markdown",
   "metadata": {},
   "source": [
    "### $E = 24.78 km$.\n",
    "________\n"
   ]
  },
  {
   "cell_type": "markdown",
   "metadata": {},
   "source": [
    "Substituindo os valores dos percursos na equação para calcular o tempo de percurso temos:\n",
    "\n",
    "$T_{c} = \\frac{A}{\\alpha _{1}} + \\frac{B}{\\alpha _{2}} + \\frac{C}{\\alpha _{3}} + \\frac{D}{\\alpha _{2}} + \\frac{E}{\\alpha _{1}}$\n",
    "\n",
    "$T_{c} = \\frac{12.39}{7} + \\frac{27.21}{6} + \\frac{26.66 }{8} + \\frac{27.21}{6} + \\frac{24.78}{7}$"
   ]
  },
  {
   "cell_type": "code",
   "execution_count": 14,
   "metadata": {
    "collapsed": false
   },
   "outputs": [
    {
     "data": {
      "text/plain": [
       "17.7125"
      ]
     },
     "execution_count": 14,
     "metadata": {},
     "output_type": "execute_result"
    }
   ],
   "source": [
    "12.39/7 + 27.21/6 + 26.66/8 + 27.21/6 + 24.78/7"
   ]
  },
  {
   "cell_type": "markdown",
   "metadata": {},
   "source": [
    "O tempo de percurso da onda refratada criticamente é \n",
    "## $T_{c} = 17.71 s$"
   ]
  },
  {
   "cell_type": "code",
   "execution_count": null,
   "metadata": {
    "collapsed": true
   },
   "outputs": [],
   "source": []
  }
 ],
 "metadata": {
  "kernelspec": {
   "display_name": "Python 2",
   "language": "python",
   "name": "python2"
  },
  "language_info": {
   "codemirror_mode": {
    "name": "ipython",
    "version": 2
   },
   "file_extension": ".py",
   "mimetype": "text/x-python",
   "name": "python",
   "nbconvert_exporter": "python",
   "pygments_lexer": "ipython2",
   "version": "2.7.10"
  }
 },
 "nbformat": 4,
 "nbformat_minor": 0
}
