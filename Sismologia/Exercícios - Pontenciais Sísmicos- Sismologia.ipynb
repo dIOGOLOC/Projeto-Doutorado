{
 "cells": [
  {
   "cell_type": "markdown",
   "metadata": {},
   "source": [
    "# Lista de Exercícios – Potenciais Sísmicos\t"
   ]
  },
  {
   "cell_type": "code",
   "execution_count": 1,
   "metadata": {
    "collapsed": true
   },
   "outputs": [],
   "source": [
    "import numpy as np"
   ]
  },
  {
   "cell_type": "markdown",
   "metadata": {},
   "source": [
    "## 1. As amplitudes de onda P e S de frequência $\\frac{4}{2\\pi}$ Hz são dadas por:\n",
    "\n",
    "$u^{P} = (\\frac{4}{3\\sqrt{2}},\\frac{4}{3\\sqrt{2}},\\frac{4}{\\sqrt{3}})$\t\n",
    "  \n",
    "$u^{S} = (-\\sqrt{3},-\\sqrt{3},\\sqrt{2})$\t\n",
    "\n",
    "\n",
    "e as velocidades de propagação são de 6\tkm/s e 4 km/s,respectivamente. Achar os potenciais escalar e vetor. Os deslocamentos são sempre\tdados em μm.\t\n",
    "  \n"
   ]
  },
  {
   "cell_type": "markdown",
   "metadata": {},
   "source": [
    "R: \n",
    "\n",
    "Sabendo que os potenciais são expressos por:\n",
    "\n",
    "escalar: $\\nabla^2 \\phi - \\frac{1}{\\alpha^2}\\ddot{\\phi} = 0$\n",
    "\n",
    "vetor: $\\nabla^2 \\Psi - \\frac{1}{\\beta^2}\\ddot{\\Psi} = 0$\n",
    "\n",
    "onde $\\alpha$ e $\\beta$ são as velocidades das ondas P = 6 km/s  e S = 4 km/s.\n",
    "\n",
    "O deslocamento associado com a onda P é:\n",
    "\n",
    "$u^{P} = \\nabla \\phi = \\frac{\\partial \\phi}{\\partial x_{1}}\\hat{x_{1}} + \\frac{\\partial \\phi}{\\partial x_{2}}\\hat{x_{2}} +  \\frac{\\partial \\phi}{\\partial x_{3}}\\hat{x_{3}}$\n",
    "\n",
    "O potencial para ondas P é:\n",
    "\n",
    "$\\phi(x,t) = A exp[\\pm i(\\omega t \\pm k_{1}x_{1} \\pm k_{2}x_{2} \\pm k_{3}x_{3}]$\n",
    "\n",
    "\n",
    "Uma solução pode ser expressa por:\n",
    "\n",
    "$\\phi(x,t) = A exp[i(\\omega t - k_{\\alpha} . x)]$\n",
    "\n",
    "Para onda S:\n",
    "\n",
    "$\\Psi(x,t) = B exp[i(\\omega t - k_{\\beta} . x)]$"
   ]
  },
  {
   "cell_type": "markdown",
   "metadata": {},
   "source": [
    "## 2. Os componentes de uma onda S, com respeito aos eixos ($x_{1} ,x _{2} ,x_{3}$) são (6, 3.25, 3), onde $x _{2}$ é o eixo vertical, o azimute é  de 60 $^{\\circ}$ e o ângulo de incidência é  de  30  $^{\\circ}$. Determinar a amplitude e  direção  dos cosenos diretores dos componentes SV e SH.  "
   ]
  },
  {
   "cell_type": "markdown",
   "metadata": {},
   "source": [
    "## 3. Dado o potencial:\n",
    "\n",
    "$\\Psi = (\\frac{\\sqrt 7}{\\sqrt 5},\\frac{5\\sqrt 7}{\\sqrt 5},‐6) exp[4i(\\frac{1}{\\sqrt 5} \\hat{x_{1}} + \\frac{1}{\\sqrt 3} \\hat{x_{2}} + \\frac{\\sqrt 7}{\\sqrt 15} \\hat{x_{3}} – 4t)]$,\n",
    "\n",
    "## calcular o ângulo de polarização.\t\n",
    "  "
   ]
  },
  {
   "cell_type": "markdown",
   "metadata": {},
   "source": [
    "R: \n",
    "\n",
    "Os deslocamentos da onda S é:\n",
    "\n",
    "$u_{S} = \\nabla \\times \\Psi = \\frac{\\partial \\Psi _{3}}{\\partial x_{2}} - \\frac{\\partial \\Psi _{2}}{\\partial x_{3}} \\hat{x_{1}} + \\frac{\\partial \\Psi _{1}}{\\partial x_{3}} - \\frac{\\partial \\Psi _{3}}{\\partial x_{1}}\\hat{x_{2}} +  \\frac{\\partial \\Psi _{2}}{\\partial x_{1}} - \\frac{\\partial \\Psi _{1}}{\\partial x_{2}}\\hat{x_{3}}$\n",
    "\n",
    "Logo:\n",
    "\n",
    "$u_{S} = u_{S_{1}}\\hat{x_{1}} + u_{S_{2}}\\hat{x_{2}} + u_{S_{3}}\\hat{x_{3}}$\n",
    "\n",
    "\n",
    "Calculando os valores de $u_{S_{1}}, u_{S_{2}} e u_{S_{3}}$ teremos:\n",
    "\n",
    "$u_{S_{1}} = \\frac{\\partial \\Psi _{3}}{\\partial x_{2}} - \\frac{\\partial \\Psi _{2}}{\\partial x_{3}} \\hat{x_{1}}$\n",
    "\n",
    "$u_{S_{2}} = \\frac{\\partial \\Psi _{1}}{\\partial x_{3}} - \\frac{\\partial \\Psi _{3}}{\\partial x_{1}} \\hat{x_{2}}$\n",
    "\n",
    "$u_{S_{3}} = \\frac{\\partial \\Psi _{2}}{\\partial x_{1}} - \\frac{\\partial \\Psi _{1}}{\\partial x_{2}} \\hat{x_{3}}$\n",
    "\n"
   ]
  },
  {
   "cell_type": "markdown",
   "metadata": {
    "collapsed": true
   },
   "source": [
    "Substituindo os valores do potencial vetor teremos:\n",
    "\n",
    "$u_{S_{1}} = (-6)4i\\frac{1}{\\sqrt 3} exp[4i(\\frac{1}{\\sqrt 5} \\hat{x_{1}} + \\frac{1}{\\sqrt 3} \\hat{x_{2}} + \\frac{\\sqrt 7}{\\sqrt 15} \\hat{x_{3}} – 4t)] - 4i(\\frac{5\\sqrt 7}{\\sqrt 5})(\\frac{\\sqrt 7}{\\sqrt 15}) exp[4i(\\frac{1}{\\sqrt 5} \\hat{x_{1}} + \\frac{1}{\\sqrt 3} \\hat{x_{2}} + \\frac{\\sqrt 7}{\\sqrt 15} \\hat{x_{3}} – 4t)])\\hat{x_{1}}$\n",
    "\n",
    "\n",
    "$u_{S_{1}} = (- \\frac{24i}{\\sqrt 3}) exp[4i(\\frac{1}{\\sqrt 5} \\hat{x_{1}} + \\frac{1}{\\sqrt 3} \\hat{x_{2}} + \\frac{\\sqrt 7}{\\sqrt 15} \\hat{x_{3}} – 4t)] - (\\frac{140i}{5\\sqrt 3}) exp[4i(\\frac{1}{\\sqrt 5} \\hat{x_{1}} + \\frac{1}{\\sqrt 3} \\hat{x_{2}} + \\frac{\\sqrt 7}{\\sqrt 15} \\hat{x_{3}} – 4t)])\\hat{x_{1}}$\n",
    "\n",
    "$u_{S_{1}} = (- \\frac{24i}{\\sqrt 3} - \\frac{28i}{\\sqrt 3})) exp[4i(\\frac{1}{\\sqrt 5} \\hat{x_{1}} + \\frac{1}{\\sqrt 3} \\hat{x_{2}} + \\frac{\\sqrt 7}{\\sqrt 15} \\hat{x_{3}} – 4t)])\\hat{x_{1}} $\n",
    "\n",
    "$u_{S_{1}} = (- \\frac{52i}{\\sqrt 3}) exp[4i(\\frac{1}{\\sqrt 5} \\hat{x_{1}} + \\frac{1}{\\sqrt 3} \\hat{x_{2}} + \\frac{\\sqrt 7}{\\sqrt 15} \\hat{x_{3}} – 4t)])\\hat{x_{1}} $"
   ]
  },
  {
   "cell_type": "code",
   "execution_count": 6,
   "metadata": {
    "collapsed": false
   },
   "outputs": [
    {
     "data": {
      "text/plain": [
       "-30.02221399786054"
      ]
     },
     "execution_count": 6,
     "metadata": {},
     "output_type": "execute_result"
    }
   ],
   "source": [
    "-52/np.sqrt(3)"
   ]
  },
  {
   "cell_type": "markdown",
   "metadata": {},
   "source": [
    "$u_{S_{1}} = (- 30.02i) exp[4i(\\frac{1}{\\sqrt 5} \\hat{x_{1}} + \\frac{1}{\\sqrt 3} \\hat{x_{2}} + \\frac{\\sqrt 7}{\\sqrt 15} \\hat{x_{3}} – 4t)])\\hat{x_{1}} $\n",
    "-----------------------------------"
   ]
  },
  {
   "cell_type": "markdown",
   "metadata": {},
   "source": [
    "--------------------------------------------------------------\n",
    "$u_{S_{2}} =  4i\\frac{\\sqrt 7}{\\sqrt 15}(\\frac{\\sqrt 7}{\\sqrt 5}) exp[4i(\\frac{1}{\\sqrt 5} \\hat{x_{1}} + \\frac{1}{\\sqrt 3} \\hat{x_{2}} + \\frac{\\sqrt 7}{\\sqrt 15} \\hat{x_{3}} – 4t)] - \\frac{1}{\\sqrt 5}4i(‐6) exp[4i(\\frac{1}{\\sqrt 5} \\hat{x_{1}} + \\frac{1}{\\sqrt 3} \\hat{x_{2}} + \\frac{\\sqrt 7}{\\sqrt 15} \\hat{x_{3}} – 4t)]$\n",
    "\n",
    "$u_{S_{2}} = (\\frac{28i}{\\sqrt 20} - \\frac{24i}{\\sqrt 5})exp[4i(\\frac{1}{\\sqrt 5} \\hat{x_{1}} + \\frac{1}{\\sqrt 3} \\hat{x_{2}} + \\frac{\\sqrt 7}{\\sqrt 15} \\hat{x_{3}} – 4t)]$\n",
    "\n",
    "$u_{S_{2}} = (\\frac{28i}{2\\sqrt 5} - \\frac{24i}{\\sqrt 5})exp[4i(\\frac{1}{\\sqrt 5} \\hat{x_{1}} + \\frac{1}{\\sqrt 3} \\hat{x_{2}} + \\frac{\\sqrt 7}{\\sqrt 15} \\hat{x_{3}} – 4t)]$\n",
    "\n",
    "$u_{S_{2}} = (\\frac{14i}{\\sqrt 5} - \\frac{24i}{\\sqrt 5})exp[4i(\\frac{1}{\\sqrt 5} \\hat{x_{1}} + \\frac{1}{\\sqrt 3} \\hat{x_{2}} + \\frac{\\sqrt 7}{\\sqrt 15} \\hat{x_{3}} – 4t)]$\n",
    "\n",
    "$u_{S_{2}} = ( - \\frac{10i}{\\sqrt 5})exp[4i(\\frac{1}{\\sqrt 5} \\hat{x_{1}} + \\frac{1}{\\sqrt 3} \\hat{x_{2}} + \\frac{\\sqrt 7}{\\sqrt 15} \\hat{x_{3}} – 4t)]$"
   ]
  },
  {
   "cell_type": "code",
   "execution_count": 7,
   "metadata": {
    "collapsed": false
   },
   "outputs": [
    {
     "data": {
      "text/plain": [
       "-4.4721359549995796"
      ]
     },
     "execution_count": 7,
     "metadata": {},
     "output_type": "execute_result"
    }
   ],
   "source": [
    "-10/np.sqrt(5)"
   ]
  },
  {
   "cell_type": "markdown",
   "metadata": {},
   "source": [
    "$u_{S_{2}} = (- 4.472i) exp[4i(\\frac{1}{\\sqrt 5} \\hat{x_{1}} + \\frac{1}{\\sqrt 3} \\hat{x_{2}} + \\frac{\\sqrt 7}{\\sqrt 15} \\hat{x_{3}} – 4t)])\\hat{x_{1}} $\n",
    "----------------------------"
   ]
  },
  {
   "cell_type": "markdown",
   "metadata": {},
   "source": [
    "-------------------------------------------\n",
    "$u_{S_{3}} = 4i(\\frac{5\\sqrt 7}{\\sqrt 5})(\\frac{1}{\\sqrt 5}) exp[4i(\\frac{1}{\\sqrt 5} \\hat{x_{1}} + \\frac{1}{\\sqrt 3} \\hat{x_{2}} + \\frac{\\sqrt 7}{\\sqrt 15} \\hat{x_{3}} – 4t)] - 4i(\\frac{\\sqrt 7}{\\sqrt 5})(\\frac{1}{\\sqrt 3}) exp[4i(\\frac{1}{\\sqrt 5} \\hat{x_{1}} + \\frac{1}{\\sqrt 3} \\hat{x_{2}} + \\frac{\\sqrt 7}{\\sqrt 15} \\hat{x_{3}} – 4t)]$\n",
    "\n",
    "$u_{S_{3}} = (\\frac{20i\\sqrt 7}{ 5}) exp[4i(\\frac{1}{\\sqrt 5} \\hat{x_{1}} + \\frac{1}{\\sqrt 3} \\hat{x_{2}} + \\frac{\\sqrt 7}{\\sqrt 15} \\hat{x_{3}} – 4t)] - (\\frac{4i\\sqrt 7}{\\sqrt 15}) exp[4i(\\frac{1}{\\sqrt 5} \\hat{x_{1}} + \\frac{1}{\\sqrt 3} \\hat{x_{2}} + \\frac{\\sqrt 7}{\\sqrt 15} \\hat{x_{3}} – 4t)]$\n",
    "\n",
    "$u_{S_{3}} = (\\frac{20i\\sqrt 7}{ 5} - \\frac{4i\\sqrt 7}{\\sqrt 15}) exp[4i(\\frac{1}{\\sqrt 5} \\hat{x_{1}} + \\frac{1}{\\sqrt 3} \\hat{x_{2}} + \\frac{\\sqrt 7}{\\sqrt 15} \\hat{x_{3}} – 4t)]$"
   ]
  },
  {
   "cell_type": "code",
   "execution_count": 9,
   "metadata": {
    "collapsed": false
   },
   "outputs": [
    {
     "data": {
      "text/plain": [
       "7.8504850400024697"
      ]
     },
     "execution_count": 9,
     "metadata": {},
     "output_type": "execute_result"
    }
   ],
   "source": [
    "20*np.sqrt(7)/5 - 4*np.sqrt(7)/np.sqrt(15)"
   ]
  },
  {
   "cell_type": "markdown",
   "metadata": {},
   "source": [
    "$u_{S_{3}} = (7.85) exp[4i(\\frac{1}{\\sqrt 5} \\hat{x_{1}} + \\frac{1}{\\sqrt 3} \\hat{x_{2}} + \\frac{\\sqrt 7}{\\sqrt 15} \\hat{x_{3}} – 4t)]$\n",
    "------------------------------------------------"
   ]
  },
  {
   "cell_type": "markdown",
   "metadata": {},
   "source": [
    "Calculando o módulo de $u_{s}$:\n",
    "\n",
    "$u_{s} = \\sqrt{u_{s_{1}}^{2} + u_{s_{2}}^{2} + u_{s_{3}}^{2}}$"
   ]
  },
  {
   "cell_type": "code",
   "execution_count": 2,
   "metadata": {
    "collapsed": false
   },
   "outputs": [
    {
     "data": {
      "text/plain": [
       "30.705441146480862"
      ]
     },
     "execution_count": 2,
     "metadata": {},
     "output_type": "execute_result"
    }
   ],
   "source": [
    "np.sqrt(30.02**2 + -4.472**2 + 7.85**2)"
   ]
  },
  {
   "cell_type": "markdown",
   "metadata": {},
   "source": [
    "Sabendo que o plano de vibração é definido como um plano ao longo da direção de propagação da onda e o ângulo de vibração é o ângulo formado entre o plano de vibração e a vertical do plano de propagação.\n",
    "\n",
    "![caption](images/planos.gif)\n",
    "\n",
    "Sabendo que a polarização pode ser observada diretamente em sismogramas quando a direção da fonte é ou norte-sul ou leste-oeste da estação.\n",
    "\n",
    "Considerando o plano $x_{1}x_{2}$ como a superfície e o eixo $x_{3}$ como profundidade teremos que:\n",
    "\n",
    "Pelos cossenos diretores teremos que: \n",
    "\n",
    "$u_{S_{3}} = u_{SV}.cos(90-i) $\n",
    "\n",
    "$u_{S_{3}}$"
   ]
  },
  {
   "cell_type": "code",
   "execution_count": null,
   "metadata": {
    "collapsed": true
   },
   "outputs": [],
   "source": []
  }
 ],
 "metadata": {
  "kernelspec": {
   "display_name": "Python 2",
   "language": "python",
   "name": "python2"
  },
  "language_info": {
   "codemirror_mode": {
    "name": "ipython",
    "version": 2
   },
   "file_extension": ".py",
   "mimetype": "text/x-python",
   "name": "python",
   "nbconvert_exporter": "python",
   "pygments_lexer": "ipython2",
   "version": "2.7.10"
  }
 },
 "nbformat": 4,
 "nbformat_minor": 0
}
