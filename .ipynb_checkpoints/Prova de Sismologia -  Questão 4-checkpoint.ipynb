{
 "cells": [
  {
   "cell_type": "markdown",
   "metadata": {},
   "source": [
    "4) (3,0 PONTOS) A expressão para o deslocamento de onda $S$ a uma distância ‘$r$’ do ponto de aplicação de um par de forças no plano ‘$pq$’ é dada por \n",
    "\n",
    "$u_{n} = - \\frac{(\\gamma _{n} \\gamma _{p} - \\delta _{np})\\gamma _{q}}{4 \\pi \\rho \\beta ^3r}M(t-r/β)$\n",
    "\n",
    "onde $u_{n}$ é o deslocamento na direção ‘$n$’, $\\gamma _{i} = \\frac{x_{i}}{r}$, $\\rho$ é a densidade, $\\beta$ é a velocidade de onda $S$ e $M$ é o momento sísmico. Usar a equação acima para deduzir uma expressão para o deslocamento de onda $S$ devido a uma fonte explosiva."
   ]
  },
  {
   "cell_type": "markdown",
   "metadata": {},
   "source": [
    "Uma fonte explosiva é considerada uma fonte pontual emite um pulso simétrico em todas as direções.Como é mostrado na Figura abaixo:\n",
    "\n",
    "![caption](images/tensor_momento_sismico)\n",
    "\n",
    "\n",
    "Reescrevendo a equação acima temos:\n",
    "\n",
    "$u_{n} = - \\frac{\\gamma _{n} \\gamma _{p}\\gamma _{q} - \\delta _{np}\\gamma _{q}}{4 \\pi \\rho \\beta ^3}\\frac{1}{r}M(t-r/β)$\n",
    "\n",
    "\n",
    "Portanto não há par de forças e nem plano onde estão estas forças.Existe apenas o vetor $\\gamma _{p}$ que liga a fonte ao receptor (ponto $P$). Portanto $\\gamma _{q}$ é um vetor unitário,$\\gamma _{q} = 1$, com isso teremos que:\n",
    "\n",
    "$u_{n} = - \\frac{\\gamma _{n}. \\gamma _{p}. 1 - \\delta _{np}.1}{4 \\pi \\rho \\beta ^3}\\frac{1}{r}M(t-r/β)$\n",
    "\n",
    "$u_{n} = - \\frac{\\gamma _{n}. \\gamma _{p} - \\delta _{np}}{4 \\pi \\rho \\beta ^3}\\frac{1}{r}M(t-r/β)$, reescrevendo a equação:\n",
    "\n",
    "$u_{n} = \\frac{\\delta _{np} - \\gamma _{n}. \\gamma _{p}}{4 \\pi \\rho \\beta ^3}\\frac{1}{r}M(t-r/β)$"
   ]
  },
  {
   "cell_type": "markdown",
   "metadata": {},
   "source": [
    "Sabendo que para uma fonte explosiva o tensor momento sísmico é composto apenas pela componente isotrópica, logo:\n",
    "\n",
    "$M = M_{0}  = \\begin{bmatrix}\n",
    "M_{11} &  0& 0\\\\ \n",
    "0 & M_{22} & 0\\\\ \n",
    "0 & 0 & M_{33}\n",
    "\\end{bmatrix} $\n",
    "\n",
    "onde $M_{11} = M_{22} = M_{33}$.\n",
    "\n",
    "Inserindo na equação acimda teremos que a expressão do deslocamento da onda S devido a uma fonte explosiva é dado por:\n",
    "\n",
    "### $u_{n} = \\frac{\\delta _{np} - \\gamma _{n}. \\gamma _{p}}{4 \\pi \\rho \\beta ^3}\\frac{1}{r}M_{0}(t-r/β)$."
   ]
  },
  {
   "cell_type": "code",
   "execution_count": null,
   "metadata": {
    "collapsed": true
   },
   "outputs": [],
   "source": []
  }
 ],
 "metadata": {
  "kernelspec": {
   "display_name": "Python 2",
   "language": "python",
   "name": "python2"
  },
  "language_info": {
   "codemirror_mode": {
    "name": "ipython",
    "version": 2
   },
   "file_extension": ".py",
   "mimetype": "text/x-python",
   "name": "python",
   "nbconvert_exporter": "python",
   "pygments_lexer": "ipython2",
   "version": "2.7.10"
  }
 },
 "nbformat": 4,
 "nbformat_minor": 0
}
