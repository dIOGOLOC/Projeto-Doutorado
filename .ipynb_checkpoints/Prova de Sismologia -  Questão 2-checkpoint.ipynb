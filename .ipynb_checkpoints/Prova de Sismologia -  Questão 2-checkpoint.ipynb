{
 "cells": [
  {
   "cell_type": "markdown",
   "metadata": {},
   "source": [
    "# Prova Escrita de Sismologia (GGF2012)"
   ]
  },
  {
   "cell_type": "markdown",
   "metadata": {},
   "source": [
    "1) (2,0 PONTOS) Os potenciais escalar e vetor para ondas P e S harmônicas são dados por \n",
    "\n",
    "> $\\phi (x,t) = A exp[i( \\omega t - k_{\\alpha}.x)] $\n",
    "\n",
    "> $\\Psi (x,t) = B exp[i( \\omega t - k_{\\beta}.x)] $\n",
    "\n",
    "respectivamente. Lembrando que $u_{P} = \\nabla \\phi$ e que $u_{S}  = \\nabla \\times  \\Psi$, mostre que as ondas P são longitudinais e que as ondas S são transversais."
   ]
  },
  {
   "cell_type": "markdown",
   "metadata": {},
   "source": [
    "R:\n",
    "---\n",
    "\n",
    "Para provar que as ondas P são longitudinais e as ondas S são transversais optou-se em mostrar como é o deslocamento e a polarização de uma onda plana. A partir do potencial escalar e do potencial vetor desta onda será derivado o deslocamento e a polarização das ondas P e S. \n",
    "\n",
    "Adotou-se um sistema de coordenadas cartesiano de 3 dimensões ($x_{1},x_{2},x_{3}$):"
   ]
  },
  {
   "cell_type": "markdown",
   "metadata": {},
   "source": [
    "______\n",
    "\n",
    "Para a onda P:\n",
    "\n",
    "O potencial escalar para onda P é dado por:\n",
    "\n",
    "$\\phi (x,t) = A exp[i( \\omega t - k_{\\alpha}.x)] $\n",
    "\n",
    "Já o deslocamento das partículas associado com a onda P é dado por:\n",
    "\n",
    "$u_{P} = \\nabla \\phi $\n",
    "\n",
    "Sendo $\\nabla = \\frac{\\partial }{\\partial x_{1}}\\hat{x_{1}} + \\frac{\\partial }{\\partial x_{2}}\\hat{x_{2}} +  \\frac{\\partial }{\\partial x_{3}}\\hat{x_{3}}$\n",
    "\n",
    "Calcula-se o deslocamento da onda P através:\n",
    "\n",
    "$u_{P} = \\nabla \\phi = \\frac{\\partial \\phi}{\\partial x_{1}}\\hat{x_{1}} + \\frac{\\partial \\phi}{\\partial x_{2}}\\hat{x_{2}} +  \\frac{\\partial \\phi}{\\partial x_{3}}\\hat{x_{3}}$\n",
    "\n",
    "Sendo $k_{\\alpha} = k_{1} + k_{2} + k_{3}$, o número de onda para a onda P. \n",
    "\n",
    "Adotando como plano de propagação $x_{1}x_{3}$, logo $\\frac{\\partial \\phi}{\\partial x_{2}}$ e $k_{2}$ são iguais a zero, temos que as componentes do potencial de $\\phi$ são:\n",
    "\n",
    "> $u_{P_{1}} = \\frac{\\partial \\phi}{\\partial x_{1}}\\hat{x_{1}} = A(-ik_{1}) exp[i( \\omega t - k_{1}x_{1})\\hat{x_{1}}]$\n",
    "\n",
    "> $u_{P_{2}} = \\frac{\\partial \\phi}{\\partial x_{2}}\\hat{x_{2}} = 0\\hat{x_{2}}$\n",
    "\n",
    "> $u_{P_{3}} =\\frac{\\partial \\phi}{\\partial x_{3}}\\hat{x_{3}} = A(-ik_{3}) exp[i( \\omega t - k_{3}x_{3})\\hat{x_{3}}]$\n",
    "\n",
    "=\n",
    "\n",
    "> $u_{P_{1}} = \\frac{\\partial \\phi}{\\partial x_{1}}\\hat{x_{1}} = -ik_{1}A exp[i( \\omega t - k_{1}x_{1})\\hat{x_{1}}]$\n",
    "\n",
    "> $u_{P_{2}} = \\frac{\\partial \\phi}{\\partial x_{2}}\\hat{x_{2}} = 0\\hat{x_{2}}$\n",
    "\n",
    "> $u_{P_{3}} =\\frac{\\partial \\phi}{\\partial x_{3}}\\hat{x_{3}} = -ik_{3}A exp[i( \\omega t - k_{3}x_{3})\\hat{x_{3}}]$\n",
    "\n",
    "Analisando os deslocamentos da onda P, vemos que só existe deslocamento no plano de propagação $x_{1}x_{3}$. Logo a onda P está \"confinada\" no plano de propagação da onda. \n",
    "\n",
    "Sabendo que $k$, o número de onda, nos dá a direção de propação da onda. Sabendo que a onda P se propaga na direção do vetor $u_{P}$, temos que: \n",
    "\n",
    "![caption](images/up)\n",
    "\n",
    "\n",
    "Se $k_{\\alpha} \\times u_{P} = 0$, este dois vetores serão paralelos. O deslocamento da onda P será na mesma direção de propagação da onda, por isso esta onda é chamada de Longitudinal. Corrobora-se esta classificação de ondas logitudinais com $\\nabla \\times \\nabla \\phi = 0$, pois o deslocamento é \"irrotacional\"."
   ]
  },
  {
   "cell_type": "markdown",
   "metadata": {},
   "source": [
    "______\n",
    "\n",
    "Para onda S:\n",
    "\n",
    "$\\Psi(x,t) = B exp[i(\\omega t - k_{\\beta} . x)]$\n",
    "\n",
    "Os deslocamentos da onda S é:\n",
    "\n",
    "$u_{S} = \\nabla \\times \\Psi = \\frac{\\partial \\Psi _{3}}{\\partial x_{2}} - \\frac{\\partial \\Psi _{2}}{\\partial x_{3}} \\hat{x_{1}} + \\frac{\\partial \\Psi _{1}}{\\partial x_{3}} - \\frac{\\partial \\Psi _{3}}{\\partial x_{1}}\\hat{x_{2}} +  \\frac{\\partial \\Psi _{2}}{\\partial x_{1}} - \\frac{\\partial \\Psi _{1}}{\\partial x_{2}}\\hat{x_{3}}$\n",
    "\n",
    "Logo:\n",
    "\n",
    "$u_{S} = u_{S_{1}}\\hat{x_{1}} + u_{S_{2}}\\hat{x_{2}} + u_{S_{3}}\\hat{x_{3}}$\n",
    "\n",
    "\n",
    "Calculando os valores de $u_{S_{1}}, u_{S_{2}} e u_{S_{3}}$ teremos:\n",
    "\n",
    "$u_{S_{1}} = \\frac{\\partial \\Psi _{3}}{\\partial x_{2}} - \\frac{\\partial \\Psi _{2}}{\\partial x_{3}} \\hat{x_{1}}$\n",
    "\n",
    "$u_{S_{2}} = \\frac{\\partial \\Psi _{1}}{\\partial x_{3}} - \\frac{\\partial \\Psi _{3}}{\\partial x_{1}} \\hat{x_{2}}$\n",
    "\n",
    "$u_{S_{3}} = \\frac{\\partial \\Psi _{2}}{\\partial x_{1}} - \\frac{\\partial \\Psi _{1}}{\\partial x_{2}} \\hat{x_{3}}$\n",
    "\n",
    "Como o plano de propagação escolhido foi o plano $x_{1}x_{3}$, temos que:\n",
    "\n",
    "$k_{2}$ e  $\\frac{\\partial \\Psi}{\\partial x_{2}}$ são iguais a zero. Então:\n",
    "\n",
    "\n",
    "$u_{S_{1}} = - \\frac{\\partial \\Psi _{2}}{\\partial x_{3}} \\hat{x_{1}}$\n",
    "\n",
    "$u_{S_{2}} = \\frac{\\partial \\Psi _{1}}{\\partial x_{3}} - \\frac{\\partial \\Psi _{3}}{\\partial x_{1}} \\hat{x_{2}}$\n",
    "\n",
    "$u_{S_{3}} = \\frac{\\partial \\Psi _{2}}{\\partial x_{1}} \\hat{x_{3}}$\n",
    "\n",
    "Como a onda S possui movimentos tanto inclusos no plano $x_{1}x_{3}$ e fora dele. Foram divididos em dois, movimentos dentro do plano foram chamados de componente $SV = u_{S_{1}} + u_{S_{3}}$ e componente puramente horizontal $SH = u_{S_{2}}$\n",
    "\n",
    "\n",
    "================================"
   ]
  },
  {
   "cell_type": "markdown",
   "metadata": {
    "collapsed": true
   },
   "source": [
    "2) (2,0 PONTOS) Mostre que os coeficiente de reflexão e transmissão para uma onda SH se propagando em um meio de módulo $\\mu _{1}$ e densidade $\\rho _{1}$ e incidindo em um meio de módulo $\\mu _{2}$ e densidade $\\rho _{2}$ são dados por:\n",
    "\n",
    "$T = \\frac{2\\mu _{1} \\eta _{\\beta 1}}{(\\mu _{1} \\eta _{\\beta 1} + \\mu _{2} \\eta _{\\beta 2})}$  $R =  \\frac{(\\mu _{1} \\eta _{\\beta 1} - \\mu _{2} \\eta _{\\beta 2})}{(\\mu _{1} \\eta _{\\beta 1} + \\mu _{2} \\eta _{\\beta 2})}$\n",
    "\n",
    "onde $\\eta _{\\beta i}$ é a vagarosidade vertical."
   ]
  },
  {
   "cell_type": "markdown",
   "metadata": {
    "collapsed": true
   },
   "source": [
    "R:\n",
    "---\n",
    "\n",
    "Para calcular o deslocamento da onda S temos: \n",
    "\n",
    "$u_{S} = \\nabla \\times \\Psi = \\frac{\\partial \\Psi _{3}}{\\partial x_{2}} - \\frac{\\partial \\Psi _{2}}{\\partial x_{3}} \\hat{x_{1}} + \\frac{\\partial \\Psi _{1}}{\\partial x_{3}} - \\frac{\\partial \\Psi _{3}}{\\partial x_{1}}\\hat{x_{2}} +  \\frac{\\partial \\Psi _{2}}{\\partial x_{1}} - \\frac{\\partial \\Psi _{1}}{\\partial x_{2}}\\hat{x_{3}}$\n",
    "\n",
    "Como o plano de propagação escolhido foi o plano $x_{1}x_{3}$, logo $k_{2}$ e $\\frac{\\partial \\Psi}{\\partial x_{2}}$ são iguais a zero. Então:\n",
    "\n",
    "$u_{S_{1}} = - \\frac{\\partial \\Psi _{2}}{\\partial x_{3}} \\hat{x_{1}}$\n",
    "\n",
    "$u_{S_{2}} = \\frac{\\partial \\Psi _{1}}{\\partial x_{3}} - \\frac{\\partial \\Psi _{3}}{\\partial x_{1}} \\hat{x_{2}}$\n",
    "\n",
    "$u_{S_{3}} = \\frac{\\partial \\Psi _{2}}{\\partial x_{1}} \\hat{x_{3}}$\n",
    "\n",
    "\n",
    "Sabendo que a componente $u_{S_{2}}$ do deslocamento da onda S que representa a onda $SH$, temos:\n",
    "\n",
    "> $u_{S_{2}} = u_{SH} = \\frac{\\partial \\Psi _{1}}{\\partial x_{3}} - \\frac{\\partial \\Psi _{3}}{\\partial x_{1}} \\hat{x_{2}}$\n",
    "\n",
    "Como $u_{SH}$ satifaz a equação da onda, então os deslocamentos serão descritos como ondas harmônicas. Portanto:\n",
    "\n",
    "> $\\Psi(x_{1},x_{3},t) = B exp[i(\\omega t - k_{1} . x_{1} - k_{3} . x_{3})]$\n",
    "\n",
    "Por conseguinte:\n",
    "\n",
    "> $\\frac{\\partial \\Psi _{1}}{\\partial x_{3}} = -ik_{3}B exp[i(\\omega t - k_{1} . x_{1} - k_{3} . x_{3})]$\n",
    "\n",
    "> $\\frac{\\partial \\Psi _{3}}{\\partial x_{1}} = -ik_{1}B exp[i(\\omega t - k_{1} . x_{1} - k_{3} . x_{3})]$  \n",
    "\n",
    "\n",
    "Quando um onda $SH$ incide ($SH_{i}$) sob um discontinuidade horizontal à superfície são geradas apenas dois tipo de ondas: \n",
    "\n",
    "> (1) $SH$ refletida ($SH_{r}$);\n",
    "\n",
    "> (2) $SH$ transmitida ($SH_{t}$).\n",
    "\n",
    "![caption](images/sh)\n",
    "\n",
    "Logo: \n",
    "\n",
    "\n",
    "Os deslocamentos para a camada 1 é dada por:\n",
    "\n",
    "\n",
    "\n",
    "As condições de contorno para este tipo de caso onde uma onda $SH$ incide sobre um superfície em um meio sólido-sólido são:\n",
    "\n",
    "> (1) continuidade do deslocamento tangencial ($V^{+} _{2} = V^{-} _{2}$);\n",
    "\n",
    "> (2) continuidade da tensão cisalhante ($\\sigma^{+} _{23}) = (\\sigma^{-} _{23}$);\n",
    "\n"
   ]
  },
  {
   "cell_type": "code",
   "execution_count": null,
   "metadata": {
    "collapsed": true
   },
   "outputs": [],
   "source": []
  }
 ],
 "metadata": {
  "kernelspec": {
   "display_name": "Python 2",
   "language": "python",
   "name": "python2"
  },
  "language_info": {
   "codemirror_mode": {
    "name": "ipython",
    "version": 2
   },
   "file_extension": ".py",
   "mimetype": "text/x-python",
   "name": "python",
   "nbconvert_exporter": "python",
   "pygments_lexer": "ipython2",
   "version": "2.7.10"
  }
 },
 "nbformat": 4,
 "nbformat_minor": 0
}
