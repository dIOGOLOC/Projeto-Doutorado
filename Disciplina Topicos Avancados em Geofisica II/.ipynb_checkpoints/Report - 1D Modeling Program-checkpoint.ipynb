{
 "cells": [
  {
   "cell_type": "markdown",
   "metadata": {},
   "source": [
    "<h1 align='center'>Report - 1D Modeling Program</h1>"
   ]
  },
  {
   "cell_type": "markdown",
   "metadata": {},
   "source": [
    "<h3>In this report we show the processing of synthetic MT data through the 1D Modeling Program.</h3>"
   ]
  },
  {
   "cell_type": "markdown",
   "metadata": {},
   "source": [
    "<h5>Importing useful python modules</h5>"
   ]
  },
  {
   "cell_type": "code",
   "execution_count": 1,
   "metadata": {
    "collapsed": true
   },
   "outputs": [],
   "source": [
    "import os\n",
    "import numpy as np\n",
    "import sys\n",
    "import matplotlib.pyplot as plt\n",
    "import ConfigParser\n",
    "%matplotlib inline"
   ]
  },
  {
   "cell_type": "markdown",
   "metadata": {},
   "source": [
    "<h5>Changing the current working directory</h5>"
   ]
  },
  {
   "cell_type": "code",
   "execution_count": 2,
   "metadata": {
    "collapsed": true
   },
   "outputs": [],
   "source": [
    "os.chdir('C:/Users/HATABILIDADE/Documents/MT1D/')"
   ]
  },
  {
   "cell_type": "markdown",
   "metadata": {},
   "source": [
    "<h2>1D Modeling Program</h2>"
   ]
  },
  {
   "cell_type": "code",
   "execution_count": 23,
   "metadata": {
    "collapsed": false
   },
   "outputs": [],
   "source": [
    "# Initialize variables\n",
    "# Magnetic permeability\n",
    "mu = 4e0 * np.pi * 1e-7\n",
    "\n",
    "# Define some classes\n",
    "class Model(object):\n",
    "    def __init__(self):\n",
    "        self.nlay = None\n",
    "        self.rho = None\n",
    "        self.thick = None\n",
    "\n",
    "\n",
    "\n",
    "class MT(object):\n",
    "    def __init__(self):\n",
    "        self.name = \"\"\n",
    "        self.nper = None\n",
    "        self.p = np.zeros(0)\n",
    "        self.z = np.zeros(0)\n",
    "        self.tip = np.zeros(0)\n",
    "        self.rho = np.zeros(0)\n",
    "        self.pha = np.zeros(0)\n",
    "\n",
    "\n",
    "\n",
    "class PlotMT():\n",
    "        #class Depth:\n",
    "        class Depth(object):\n",
    "            def __init__(self, Units='m', Scale='linear', Minimum=0.1, Maximum=5000):\n",
    "                if (Units is 'm'): PlotMT.self.Units = 'm'\n",
    "                if (Scale is 'linear'): PlotMT.self.Scale = 'linear'\n",
    "                if (Minimum is 0.1): PlotMT.self.Minimum = 0.1\n",
    "                if (Maximum is 5000): PlotMT.self.Maximum = 5000\n",
    "\n",
    "        #class Rho:\n",
    "        class Rho(object):\n",
    "            def __init__(self, Minimum=0.1, Maximum=10000):\n",
    "                if (Minimum is 0.1): self.Minimum = PlotMT.Minimum\n",
    "                if (Maximum is 10000): self.Maximum = PlotMT.Maximum\n",
    "\n",
    "\n",
    "\n",
    "def pause ():\n",
    "    try:\n",
    "        input(\"Press enter to continue\")\n",
    "    except SyntaxError:\n",
    "        pass\n",
    "\n",
    "\n",
    "\n",
    "def CheckConfigSections(config):\n",
    "    t1 = config.has_section('MODEL')\n",
    "    t2 = config.has_section('PERIODS')\n",
    "    if not (t1 and t2):\n",
    "        sys.exit(\"ERROR: config file not correct. Either the MODEL or FREQUENCY sections are missing.\")\n",
    "#    t3 = config.has_section('PLOT')\n",
    "\n",
    "\n",
    "\n",
    "def getparameters():\n",
    "# Get parameters from Configuration file: Model.ini\n",
    "    # initialize config\n",
    "    config = ConfigParser.ConfigParser()\n",
    "    # read config file\n",
    "    config.read('model.ini')\n",
    "    # check that config file has the required sections\n",
    "    CheckConfigSections(config)\n",
    "    # Get number of layers\n",
    "    Model.nlay = config.getint('MODEL','NumberOfLayers')\n",
    "    # Initialize arrays\n",
    "    Model.rho = []\n",
    "    Model.thick = []\n",
    "    # Read model parameters:\n",
    "    rhostr = 'RhoLayer'\n",
    "    thistr = 'ThicknessLayer'\n",
    "    for i in range(1,Model.nlay):\n",
    "        t = rhostr + `i`\n",
    "        Model.rho.append( config.getfloat('MODEL',t) )\n",
    "        t = thistr + `i`\n",
    "        Model.thick.append( config.getfloat('MODEL',t) )\n",
    "    t = rhostr + `Model.nlay`\n",
    "    Model.rho.append( config.getfloat('MODEL',t) )\n",
    "\n",
    "    # Periods:\n",
    "    maxper = config.getfloat('PERIODS','MaximumPeriod')\n",
    "    if maxper < 0e0:\n",
    "        maxper = -1e0 / maxper\n",
    "    maxper = np.log10(maxper)\n",
    "    minper = config.getfloat('PERIODS','MinimumPeriod')\n",
    "    if minper < 0e0:\n",
    "        minper = -1e0 / minper\n",
    "    minper = np.log10(minper)\n",
    "    if maxper < minper:\n",
    "        sys.exit(\"ERROR: maxperiod < minperiod. Fix it and run it again\")\n",
    "    ndec = config.getint('PERIODS','PeriodsPerDecade')\n",
    "    if ndec == 0:\n",
    "        sys.exit(\"ERROR: the number of periods per decade needs to be > 0.\")\n",
    "    #     total number of periods\n",
    "    MT.nper = int( maxper - minper ) * ndec + 1\n",
    "    #     calculate periods using a logscale\n",
    "    MT.p = np.logspace(minper, maxper, MT.nper)\n",
    "\n",
    "    # Plot:\n",
    "    if config.has_section('PLOT'):\n",
    "        PlotMT.Depth.Units = config.get('PLOT','DepthUnits')\n",
    "        PlotMT.Depth.Scale = config.get('PLOT','DepthScale')\n",
    "        PlotMT.Depth.Minimum = config.getfloat('PLOT','MinimumDepth')\n",
    "        PlotMT.Depth.Maximum = config.getfloat('PLOT','MaximumDepth')\n",
    "        PlotMT.Rho.Minimum = config.getfloat('PLOT','MinimumRho')\n",
    "        PlotMT.Rho.Maximum = config.getfloat('PLOT','MaximumRho')\n",
    "        return( Model, MT, PlotMT )\n",
    "    else:\n",
    "        PlotMT.Depth.Units = 'm'\n",
    "        PlotMT.Depth.Scale = 'linear'\n",
    "        PlotMT.Depth.Minimum = 0.1\n",
    "        PlotMT.Depth.Maximum = 1000\n",
    "        PlotMT.Rho.Minimum = 0.1\n",
    "        PlotMT.Rho.Maximum = 10000\n",
    "        return( Model, MT )\n",
    "\n",
    "\n",
    "\n",
    "def mtcurve( Model, MT ):\n",
    "# 1D (layered) MT curve generation by formulae given in\n",
    "# Keller and Frischneckt\n",
    "#\n",
    "# Variables:\n",
    "# rho:  vector holding the resistivities of the layers, in Ohm.m\n",
    "# h:    vector holding the thicknesses of the layers, in meters\n",
    "# p:    vector holding the periods of interest, in s\n",
    "# z:    on exit, z contains the 1D impedance ZXY (=-ZYX)\n",
    "\n",
    "   # Initialize\n",
    "   MT.z = np.zeros(MT.nper) + np.zeros(MT.nper)*0j\n",
    "\n",
    "   for i in range(0, MT.nper):\n",
    "\n",
    "      f = 1e0 / MT.p[i]\n",
    "      gl = np.sqrt( ( f * np.pi * mu ) / Model.rho[Model.nlay-1] )\n",
    "      total = 1e0 + 0e0j\n",
    "\n",
    "      # Layer Loop\n",
    "      if Model.nlay == 1:\n",
    "         g = np.sqrt( ( f * np.pi * mu ) / Model.rho[0] )\n",
    "\n",
    "      for l in range(Model.nlay-2,-1,-1):\n",
    "         g = np.sqrt( ( f * np.pi * mu ) / Model.rho[l] )\n",
    "         MT.z[i] = total * g / gl\n",
    "         MT.z[i] = complex(g,g) * Model.thick[l] + np.log( (MT.z[i] + 1e0) / (MT.z[i] - 1e0) ) / 2e0\n",
    "\n",
    "         # check for overflows\n",
    "         #if  np.isinf(z[i]) and True:\n",
    "         if  np.abs(MT.z[i]) > 1e+2:\n",
    "             total = 1e0 + 0e0j\n",
    "         else:\n",
    "             cplus = np.exp(MT.z[i])\n",
    "             cminus = np.exp(-MT.z[i])\n",
    "             total = (cplus + cminus)/(cplus - cminus)\n",
    "\n",
    "         gl = g\n",
    "\n",
    "      MT.z[i] = ( 1j * f * 2e0 * np.pi * mu * total) / complex( g, g )\n",
    "\n",
    "\n",
    "def getrhopha( MT ):\n",
    "# Calculates the apparent resistivity and phase from impedance\n",
    "\n",
    "   # Initialize\n",
    "#   MT.rho = np.zeros(MT.nper)\n",
    "   MT.rho = []\n",
    "   MT.pha = []\n",
    "   for i in range (0,MT.nper):\n",
    "      MT.rho.append( np.abs(MT.z[i])**2 * MT.p[i] / ( mu  * 2e0 * np.pi ) )\n",
    "      MT.pha.append( np.arctan2( MT.z.imag[i], MT.z.real[i] ) * 180e0 / np.pi )\n",
    "\n",
    "def printmodel( Model, Plot ):\n",
    "# Prints 1D model\n",
    "    # calculate depths from thicknesses\n",
    "    dep = np.zeros(Model.nlay+1)\n",
    "    t = np.cumsum(Model.thick)\n",
    "    if Plot.Depth.Units == 'm':\n",
    "        dep[1:Model.nlay] = t\n",
    "    elif Plot.Depth.Units == 'km':\n",
    "        dep[1:Model.nlay] = t / 1000\n",
    "    dep[0] = Plot.Depth.Minimum\n",
    "    # need to add the last thickness, make it very large\n",
    "    dep[Model.nlay] = Plot.Depth.Maximum\n",
    "    if Model.nlay == 1:\n",
    "        dep[Model.nlay] = 1000\n",
    "    # resistivities in log scale\n",
    "    lres = np.zeros(Model.nlay+1)\n",
    "    lres[0:Model.nlay] = np.log10(Model.rho)\n",
    "    lres[Model.nlay] = lres[Model.nlay-1]\n",
    "    # Get max and min of resistivities for plotting\n",
    "#    rn = np.log10( np.amin(Model.rho)/1.5 )\n",
    "    rn = np.log10(Plot.Rho.Minimum)\n",
    "#    rx = np.log10( np.amax(Model.rho)*1.2 )\n",
    "    rx = np.log10(Plot.Rho.Maximum)\n",
    "    # Do plot\n",
    "    plt.figure(1)\n",
    "    plt.step(lres,dep,'k')\n",
    "    plt.ylim([Plot.Depth.Maximum,Plot.Depth.Minimum])\n",
    "    plt.xlim([rn,rx])\n",
    "    plt.xscale('linear')\n",
    "#    plt.yscale('log', nonposx='clip')\n",
    "    if Plot.Depth.Scale == 'log': plt.yscale('symlog', linthreshx=100)\n",
    "    plt.ylabel('Depth [km]')\n",
    "    plt.xlabel(r'log10($\\rho) [\\Omega.m]$')\n",
    "    plt.title('1D MT Model')\n",
    "\n",
    "\n",
    "def plotz( xMT ):\n",
    "# Plots impedances\n",
    "    fig1, ax = plt.subplots()\n",
    "#    plt.plot(xMT.p, xMT.z.real, 'o', color = 'b', markerfacecolor='none', label='Real')\n",
    "#    plt.plot(xMT.p, xMT.z.imag, 'x', color = 'r', label='Imaginary')\n",
    "    plt.plot(xMT.p, xMT.z.real, color = 'b', label='Real')\n",
    "    plt.plot(xMT.p, xMT.z.imag, color = 'r', label='Imaginary')\n",
    "    plt.xscale('log')\n",
    "    plt.ylabel('Z [Ohm]')\n",
    "    plt.xlabel('period [s]')\n",
    "    plt.title('1D MT Model')\n",
    "    # Now add the legend with some customizations.\n",
    "    legend = ax.legend(loc='upper right', shadow=True)\n",
    "\n",
    "    # The frame is matplotlib.patches.Rectangle instance surrounding the legend.\n",
    "    frame = legend.get_frame()\n",
    "    frame.set_facecolor('0.90')\n",
    "\n",
    "    # Set the fontsize\n",
    "    for label in legend.get_texts():\n",
    "        label.set_fontsize('small')\n",
    "\n",
    "    for label in legend.get_lines():\n",
    "        label.set_linewidth(1.5)  # the legend line width\n",
    "\n",
    "def plotrhopha( xMT ):\n",
    "# Plots RHO and PHA\n",
    "    plt.figure(3)\n",
    "    plt.subplot(2,1,1)\n",
    "    # Get the max and min of the Rhos to set limits:\n",
    "    minrho = 10**(np.log10(np.min(xMT.rho))-1)\n",
    "    maxrho = 10**(np.log10(np.max(xMT.rho))+1)\n",
    "    # Plot rho\n",
    "#    plt.plot(xMT.p, xMT.rho, 'o')\n",
    "    plt.plot(xMT.p, xMT.rho,'k')\n",
    "    plt.xscale('log')\n",
    "    plt.yscale('log')\n",
    "    plt.ylim([minrho,maxrho])\n",
    "    plt.title('1D MT Model')\n",
    "    plt.ylabel(r'$\\rho [\\Omega.m]$')\n",
    "    # Plot phases\n",
    "    plt.subplot(2,1,2)\n",
    "#    plt.plot(xMT.p, xMT.pha, 'o')\n",
    "    plt.plot(xMT.p, xMT.pha,'k')\n",
    "    plt.ylim([0, 90])\n",
    "    plt.xscale('log')\n",
    "    plt.ylabel(r'$\\phi [degrees]$')\n",
    "    plt.xlabel('period [s]')"
   ]
  },
  {
   "cell_type": "markdown",
   "metadata": {},
   "source": [
    "<h3>1D Model</h3>"
   ]
  },
  {
   "cell_type": "code",
   "execution_count": 24,
   "metadata": {
    "collapsed": false
   },
   "outputs": [
    {
     "data": {
      "image/png": "[encoded data removed]",
      "text/plain": [
       "<matplotlib.figure.Figure at 0x8d7d9e8>"
      ]
     },
     "metadata": {},
     "output_type": "display_data"
    }
   ],
   "source": [
    "xModel = Model()\n",
    "xMT = MT()\n",
    "xModel, xMT, xPlot = getparameters()\n",
    "printmodel(xModel, xPlot)"
   ]
  },
  {
   "cell_type": "markdown",
   "metadata": {},
   "source": [
    "<h5 align='justify'>This model has parameters according to a layered Earth without lateral heterogeneity. This section is based in a gradual increase of resistivity in the Crust and Mantle until ~150 km of depth. In ~200 km of depht, we have a discontinuity that is related with the Lithosphere-Asthenosphere boundary\n",
    "(LAB). And later, we have a Conducting mantle.</h5>\n",
    "\n",
    "<h5 align='justify'>We made this model because we are testing if the MT method can recovery the structure bellow a high-resistance layer, like our model.</h5>"
   ]
  },
  {
   "cell_type": "markdown",
   "metadata": {},
   "source": [
    "<h3>Impedances for 1D Model</h3>"
   ]
  },
  {
   "cell_type": "code",
   "execution_count": 25,
   "metadata": {
    "collapsed": false
   },
   "outputs": [
    {
     "data": {
      "image/png": "[encoded data removed]",
      "text/plain": [
       "<matplotlib.figure.Figure at 0x7a96128>"
      ]
     },
     "metadata": {},
     "output_type": "display_data"
    }
   ],
   "source": [
    "mtcurve( xModel, xMT )\n",
    "plotz( xMT )"
   ]
  },
  {
   "cell_type": "markdown",
   "metadata": {},
   "source": [
    "<h5 align='justify'>This graph shows the variation of the Impedance in fuction of the period. There is a important feature between the periods $10^{1}$ and $10^{2}$.</h5>"
   ]
  },
  {
   "cell_type": "markdown",
   "metadata": {},
   "source": [
    "<h3>Apparent resisitivties and Phases for 1D Model</h3>"
   ]
  },
  {
   "cell_type": "code",
   "execution_count": 26,
   "metadata": {
    "collapsed": false
   },
   "outputs": [
    {
     "data": {
      "image/png": "[encoded data removed]",
      "text/plain": [
       "<matplotlib.figure.Figure at 0x7bda9b0>"
      ]
     },
     "metadata": {},
     "output_type": "display_data"
    }
   ],
   "source": [
    "getrhopha( xMT )\n",
    "plotrhopha( xMT )"
   ]
  },
  {
   "cell_type": "markdown",
   "metadata": {},
   "source": [
    "<h5 align='justify'>This last graph shows the convertion of the impedances in apparent resisitivties and phases. We can observe between the periods $10^{1}$ e $10^{3}$ a bulge in the aparent resistivity and a large depression in the phase.  The segment is related with the high-resistance layer in our model. In the apparent resistivity we can see the gradual increase of the resitivity, later a high-resistivity value between the periods $10^{1}$ e $10^{3}$. After that we can observe a conductive behaviour in the high periods.<h/5>\n",
    "\n",
    "<h5 align='justify'>The LAB is hidden below the high-resistance layer, and its signal is masked by the high-amplitude signal. Thus, it is hard to recover structures below high-resistance layers.<h/5>"
   ]
  }
 ],
 "metadata": {
  "kernelspec": {
   "display_name": "Python 3",
   "language": "python",
   "name": "python3"
  },
  "language_info": {
   "codemirror_mode": {
    "name": "ipython",
    "version": 3
   },
   "file_extension": ".py",
   "mimetype": "text/x-python",
   "name": "python",
   "nbconvert_exporter": "python",
   "pygments_lexer": "ipython3",
   "version": "3.5.1"
  }
 },
 "nbformat": 4,
 "nbformat_minor": 0
}
