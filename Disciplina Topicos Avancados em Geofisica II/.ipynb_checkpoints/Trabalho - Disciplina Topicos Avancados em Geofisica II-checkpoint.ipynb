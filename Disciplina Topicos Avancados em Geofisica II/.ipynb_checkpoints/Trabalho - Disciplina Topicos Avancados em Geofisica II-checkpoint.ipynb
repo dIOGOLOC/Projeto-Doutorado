{
 "cells": [
  {
   "cell_type": "markdown",
   "metadata": {},
   "source": [
    "<h1>Trabalho</h1>\n",
    "\n",
    "<h2>Leia os seguintes documentos e responder às perguntas:</h2>\n",
    "\n",
    "\n"
   ]
  },
  {
   "cell_type": "markdown",
   "metadata": {
    "collapsed": true
   },
   "source": [
    "<h3 align='justify'>1. Leia Cagniard (1953) e resumir os pontos principais. O que exatamente é um Homem\n",
    "Amperian (Amperian Man)?</h3>\n"
   ]
  },
  {
   "cell_type": "markdown",
   "metadata": {},
   "source": [
    "<h4 align='justify'>This article is a compilation about the main points of the Magnetotelluric method. The author explains the basis of the theory and shows how to applicate the MT-sounding in specific situations with a layered model earth. It is clear that the author made this article to emphasize the capacity of the MT method to separate individual effects of the subsurface strata, and to show the competence of this method in the industry. The author exemplifies some advantages of the MT in the exploratory investigation, due to a good resolution comparing with Electrical soundings. The Amperian man is an observer who stands in the center of the coordenates system.</h4>"
   ]
  },
  {
   "cell_type": "markdown",
   "metadata": {},
   "source": [
    "<h3 align='justify'>2. Leia Cantwell e Madden (1961). Sintetizar e enfatizar como os dados MT foram registrados.\n",
    "Que problemas foram encontrados na recolha de dados?</h3>\n"
   ]
  },
  {
   "cell_type": "markdown",
   "metadata": {},
   "source": [
    "<h4 align='justify'> \n",
    "The majoraty part of the MT data come from Littleton, Massachusetts. The MT data has collected with a dipolo space at least a kilometer length. The magnetic field fluctuations was registered with a magnetic coil, which consisted of 90,000 turns of wire on a 5-foot bar with a 1 inch of diameter. The instrumentation system uses band-pass filters, like .005 to .02 cps, .02 to .06 cps, .06 to .2 cps, and .6 to 1 cps. These field data were recorded in dual-channel paper-tape, and later this ones were digitized.\n",
    "</h4>\n",
    "<h4 align='justify'> \n",
    "Some problems founded in the data acquisition are: low-sensitivity of the magnetic coil and the production of false signals by mechanical instability of the coil mounts.\n",
    "</h4>"
   ]
  },
  {
   "cell_type": "markdown",
   "metadata": {},
   "source": [
    "<h3 align='justify'>3. Leia Madden e Nelson (1963). Este trabalho justifica o método MT proposto por Cagniard. Por\n",
    "que isso foi necessária defesa? Descreva a evidência apresentada, e explicar como ele\n",
    "justifica o método proposto 10 anos antes por Cagniard.</h3>"
   ]
  },
  {
   "cell_type": "markdown",
   "metadata": {},
   "source": [
    "<h4 align='justify'>\n",
    "Madden and Nelson (1963) justifies the MT method because several papers refuse the validity of single station magnetotelluric data can measure the Earth's electrical properties. Madden and Nelson (1963) illustrated that these papers used models with poor conducting to prove their hypotesis, thus accentuating the method's difficulties. Therefore these models, according to Madden and Nelson (1963), do not represent realistics models for the Earth.\n",
    "</h4>\n",
    "<h4 align='justify'>\n",
    "The evidence presented from the papers is that many errors are introduced in the measeures. It occurs when the horizontal wavelengths are not infinite in length, because Cagniard (1953) assumed that the source are plane waves. This is an important consideration because, if the horizontal non-infinite wavelengths affect the results, simultaneous measurements from several stations are necessary to determine these wavelengths. Hence the simplicity of this method will be lost.\n",
    "</h4>\n",
    "<h4 align='justify'>\n",
    "Madden and Nelson (1963) shows that the question of the horizontal wavelengths is not very serious, however the results are strongly affected by the nonhorizontal conductivity structures. The authors explain their purpose by means of several verifications, like the effects of the finite horizontal wavelengths and the effects nonhorizontal conductivity structures. To verify the efeccts of the wavelength, the author computes the electromagnetic wave equation for a wave with a horizontally polarized E field for a range of horizontal wavelengths and frequencies. The results show that the source geometry is important, but it must be considered along with a realistic view of the Earth's vertical variation in electrical conductivity. After that, the effects of source geometry, which would be evident in finite horizontal wavelengths, do not invalidate Cagniard's simple assumptions. The effects of nonhorizontal conductivity structures are presented with a real data of Weston, Massachusetts. The authors observes large variations in the observed E/H ratios recorded at different times from the same station. The E / H ratios observed have a strong dependence on the orientation of the magnetic fluctuation field. Thus, it is necessary to consider magnetotelluric solutions for nonhorizontally layered structures. So, a single measure cannot deal with this anisotropy, we need a large geographic coverage with the magnetotelluric measurements. In the end the authors say that Cagniard assumption of infinite horizontal wavelength is accurate enough to make single station data valid.\n",
    "And that nonhorizontal conductivity structures cause many of the apparent magnetotelluric inconsistencies and necessitate a tensor treatment of the data.\n",
    "</h4>"
   ]
  },
  {
   "cell_type": "markdown",
   "metadata": {},
   "source": [
    "<h3 align='justify'>4. Leia Unsworth (2010). Resumir o MT nos falou colisões continente-continente. O que tem MT\n",
    "nos disse que outros métodos geofísicos não poderia nos dizer.</h3>"
   ]
  },
  {
   "cell_type": "markdown",
   "metadata": {
    "collapsed": true
   },
   "source": [
    "<h4 align='justify'> \n",
    "The MT works about collision zones showed some tectonic features and processes that are typicall of whole collisional zone. Certains similarities among orogenetic areas in terms of active tectonics and seismic velocity structure was discussed. Some papers compared two orogens and saw related patterns of thrusting at low levels and extension at higher elevation. A important role of MT in multiple collisions zone is that MT can give insight into the temporal evolution of collision zones, but we need sufficient data to guarantee a fully understand variations in starting conditions.\n",
    "</h4>\n",
    "<h4 align='justify'> \n",
    "Magnetotelluric studies of active collision zones can reveal new constraints on the rheological properties of the crust and upper mantle. A large grid of MT stations can define the resistivity structure with confidence in a 2D or 3D mean, at the same time determine if electrical anisotropy is associated with flow and deformation in these zones. Thus high resolution MT surveys can provide the most reliable images of subsurface structure.\n",
    "</h4>"
   ]
  }
 ],
 "metadata": {
  "kernelspec": {
   "display_name": "Python 3",
   "language": "python",
   "name": "python3"
  },
  "language_info": {
   "codemirror_mode": {
    "name": "ipython",
    "version": 3
   },
   "file_extension": ".py",
   "mimetype": "text/x-python",
   "name": "python",
   "nbconvert_exporter": "python",
   "pygments_lexer": "ipython3",
   "version": "3.5.1"
  }
 },
 "nbformat": 4,
 "nbformat_minor": 0
}
