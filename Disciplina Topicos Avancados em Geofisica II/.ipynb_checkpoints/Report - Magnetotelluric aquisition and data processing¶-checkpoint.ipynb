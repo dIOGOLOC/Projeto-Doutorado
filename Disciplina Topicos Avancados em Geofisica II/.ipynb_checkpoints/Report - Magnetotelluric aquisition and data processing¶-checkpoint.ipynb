{
 "cells": [
  {
   "cell_type": "markdown",
   "metadata": {},
   "source": [
    "<h1 align=\"center\">Report - Magnetotelluric aquisition and data processing<h1> "
   ]
  },
  {
   "cell_type": "markdown",
   "metadata": {},
   "source": [
    "<h2 align='center'>Magnetotelluric Acquisition </h2>"
   ]
  },
  {
   "cell_type": "markdown",
   "metadata": {},
   "source": [
    "<h4 align='justify'>The magnetotelluric is a exploration passive method that uses a spectral band of geomagnetic variation. The magnetotelluric technical consists of the measure, in the Earth's surface, of fluctuations in the electric (E) and magnetic field to recover the the conductive structure of the Earth. The basis of this method reside in the fact of the penetration depth of the electromagnetic fields in the Earth depends of the field's period and the earth's material conductance. The periods are in the range of $10^{-3}$ to $10^{5}$ seconds, and the penetration depth increase with period.</h4>"
   ]
  },
  {
   "cell_type": "markdown",
   "metadata": {},
   "source": [
    "<h4 align='justify'> The depth penetration is related with the total time used during acquisition and the conductance of the Earth's material. In our campaign the acquisition duration was 24 hours. The sensors was installed according of the scheme bellow:</h4>\n",
    "\n",
    "<img src='deploy.jpeg'>\n",
    "\n",
    "<h4 align='center'>The equipaments used in this acquisition are: </h4>\n",
    "<h4 align='center'>. 1 Fluxgate magnetometer, </h4>\n",
    "<h4 align='center'>. 4 electrodes,</h4>\n",
    "<h4 align='center'>. 1 GPS antenna, </h4>\n",
    "<h4 align='center'>. 1 recorder - LEMI , </h4>\n",
    "<h4 align='center'>. 1 receiver, </h4>\n",
    "<h4 align='center'>. 1 battery. </h4>\n",
    "\n",
    "\n"
   ]
  },
  {
   "cell_type": "markdown",
   "metadata": {},
   "source": [
    "<h4 align='justify'>The magnetic data has collected using a Fluxgate magnetometer to measure the fluctuation of the magnetic field in three directions x,y,z (Hx,Hy,Hz). This type of equipament can recovery large periods, when comparing with bobine coils. One advantage of the Fluxgate is the facility of instalation, because when you use this one you need to burry just the sensor, but, in the case of the bobine coils, you need to burry three coils. The electrical flutuations are determined measuring the potential difference between the pair of electrodes. This ones are connected by a cable to create dipolos. It is very important that x and y directions of the electrodos are orthogonal. In our campaign, we use five electrodos, one electrodo in the end of the cable and one in center, how is showed in the figure above. Thus, we create 4 dipolos, instead of 2 how normally is maded. Two dipolos was created in NS direction (N0 and S0) and two in WE (W0 and E0). This type of configuration guarantee a signal redundance, because if we have some problem with one dipolo, we can use the data recorded in the other dipolo. So, we align N0 and S0 dipolo with the North Magnetic. After this, we tested the electrodos' resistivities with a voltimeter. In the end, we connected the dipolos and the magnetometer in the digital acquisition unit. This one is formed by the receiver and  the recorder. We connected each dipolo in the receiver, and later we plugged the GPS antenna and the battery in the recorder. </h4>\n",
    "\n",
    "\n",
    "\n",
    "<h4 align='justify'> After this, we tested the configuration, the GPS signal and the battery voltage. Later, we took down some informations, how showed in the figure bellow:</h4>\n",
    "\n",
    "<img src='notes.jpeg'>\n"
   ]
  },
  {
   "cell_type": "markdown",
   "metadata": {},
   "source": [
    "<h4 align='justify'>After the data acquisition, we visualized the data analize and indentify our the data set. In this step, we plotted the time series of each channel looking for some problems in the acquisition. This problems can be gaps, high signal-noise ratio and no data recorded. </h4>"
   ]
  },
  {
   "cell_type": "markdown",
   "metadata": {},
   "source": [
    "<h2 align=\"center\">Importing modulus to calculate and plotting data<h2> "
   ]
  },
  {
   "cell_type": "code",
   "execution_count": null,
   "metadata": {
    "collapsed": true
   },
   "outputs": [],
   "source": [
    "import numpy as np\n",
    "import matplotlib.pyplot as mpl\n",
    "import matplotlib.gridspec as gridspec\n",
    "%matplotlib inline"
   ]
  },
  {
   "cell_type": "markdown",
   "metadata": {},
   "source": [
    "<h2 align=\"center\">  Importing MT data</h2> "
   ]
  },
  {
   "cell_type": "code",
   "execution_count": null,
   "metadata": {
    "collapsed": false
   },
   "outputs": [],
   "source": [
    "header = np.genfromtxt('/home/diogo/Documents/MT_disc/ADE01/ADE01.asc', delimiter=',', dtype='str')[0]\n",
    "ADE = np.genfromtxt('/home/diogo/Documents/MT_disc/ADE01/ADE01.asc', delimiter=',',skip_header=1)"
   ]
  },
  {
   "cell_type": "markdown",
   "metadata": {},
   "source": [
    "<h2 align=\"center\">  Plotting time series</h2>  \n",
    "\n"
   ]
  },
  {
   "cell_type": "code",
   "execution_count": null,
   "metadata": {
    "collapsed": true
   },
   "outputs": [],
   "source": [
    "Bx = ADE[:,0]\n",
    "By = ADE[:,1]\n",
    "Bz = ADE[:,2]\n",
    "En = ADE[:,3]\n",
    "Ee = ADE[:,4]\n",
    "Es = ADE[:,5]\n",
    "Ew = ADE[:,6]\n",
    "\n",
    "data = [Bx,By,Bz,En,Ee,Es,Ew]"
   ]
  },
  {
   "cell_type": "markdown",
   "metadata": {},
   "source": [
    "<h3 align='center'>Matlibplot.Gridspec to plot each time serie in a subplot (more in http://matplotlib.org/examples/pylab_examples/demo_tight_layout.html)</h3>"
   ]
  },
  {
   "cell_type": "code",
   "execution_count": null,
   "metadata": {
    "collapsed": false
   },
   "outputs": [],
   "source": [
    "fig = mpl.figure(figsize=(30,40))\n",
    "gs1 = gridspec.GridSpec(len(data),1)\n",
    "\n",
    "for i,j in enumerate(data):\n",
    "    ax = fig.add_subplot(gs1[i])\n",
    "    ax.set_title(header[i],fontsize=25)\n",
    "    ax.plot(np.arange(len(data[0])),j,'k')\n",
    "    ax.set_xlim(min(np.arange(len(data[0]))),max(np.arange(len(data[0]))))"
   ]
  },
  {
   "cell_type": "markdown",
   "metadata": {
    "collapsed": true
   },
   "source": [
    "<h2 align='center'> Calculating the spectre to Bx,By,Bz,En,Ee,Es,Ew component  (Discrete Fourier Transform http://docs.scipy.org/doc/numpy/reference/routines.fft.html)</h2>"
   ]
  },
  {
   "cell_type": "markdown",
   "metadata": {
    "collapsed": false
   },
   "source": [
    "<h5> Setting the HANNING window, which one maximizes the energy in the main lobe of the window relative to total energy. </h5>"
   ]
  },
  {
   "cell_type": "code",
   "execution_count": null,
   "metadata": {
    "collapsed": false
   },
   "outputs": [],
   "source": [
    "N = len(ADE)\n",
    "window = np.kaiser(N,6)\n",
    "window = window/sum(np.convolve(window,window))"
   ]
  },
  {
   "cell_type": "markdown",
   "metadata": {},
   "source": [
    "<h5> The spectrogram x-axis</h5>"
   ]
  },
  {
   "cell_type": "code",
   "execution_count": null,
   "metadata": {
    "collapsed": true
   },
   "outputs": [],
   "source": [
    "SR = 1 \n",
    "fr = (1/(SR*N))*(np.arange(N)/2)"
   ]
  },
  {
   "cell_type": "markdown",
   "metadata": {},
   "source": [
    "<h5> Normalization of the component</h5>"
   ]
  },
  {
   "cell_type": "code",
   "execution_count": null,
   "metadata": {
    "collapsed": false
   },
   "outputs": [],
   "source": [
    "component_data = []\n",
    "for i,j in enumerate(data):\n",
    "    component_data.append(j - np.mean(j))"
   ]
  },
  {
   "cell_type": "markdown",
   "metadata": {},
   "source": [
    "<h5> Linear convolution between the component and the HANNING window</h5>"
   ]
  },
  {
   "cell_type": "code",
   "execution_count": null,
   "metadata": {
    "collapsed": false
   },
   "outputs": [],
   "source": [
    "component_w = [np.convolve(i, window) for i in component_data]"
   ]
  },
  {
   "cell_type": "markdown",
   "metadata": {},
   "source": [
    "<h5> One-dimensional discrete Fourier Transform of the previous convolution . </h5>"
   ]
  },
  {
   "cell_type": "code",
   "execution_count": null,
   "metadata": {
    "collapsed": false
   },
   "outputs": [],
   "source": [
    "component_wf = [np.fft.fft(i) for i in component_w]"
   ]
  },
  {
   "cell_type": "markdown",
   "metadata": {},
   "source": [
    "<h5> Linear convolution between the discrete Fourier Transform and his conjugate</h5>"
   ]
  },
  {
   "cell_type": "code",
   "execution_count": null,
   "metadata": {
    "collapsed": true
   },
   "outputs": [],
   "source": [
    "perd = [np.convolve(i,np.conjugate(i)) for i in component_wf]"
   ]
  },
  {
   "cell_type": "markdown",
   "metadata": {},
   "source": [
    "<h5> Smoothness window size </h5>"
   ]
  },
  {
   "cell_type": "code",
   "execution_count": null,
   "metadata": {
    "collapsed": true
   },
   "outputs": [],
   "source": [
    "nsm = 7\n",
    "smooth = np.ones(nsm)/nsm"
   ]
  },
  {
   "cell_type": "markdown",
   "metadata": {},
   "source": [
    "<h5> Shift the convolution between the component and the smothness window to the center of the spectrum. </h5>"
   ]
  },
  {
   "cell_type": "code",
   "execution_count": null,
   "metadata": {
    "collapsed": false
   },
   "outputs": [],
   "source": [
    "spectrum = [np.fft.fftshift(np.convolve(np.fft.fftshift(i),smooth)) for i in perd]"
   ]
  },
  {
   "cell_type": "markdown",
   "metadata": {},
   "source": [
    "<h2 align='center'>Plotting the Spectrogram</h2>"
   ]
  },
  {
   "cell_type": "code",
   "execution_count": null,
   "metadata": {
    "collapsed": false
   },
   "outputs": [],
   "source": [
    "fig = mpl.figure(figsize=(15,20))\n",
    "gs1 = gridspec.GridSpec(len(spectrum),1)\n",
    "\n",
    "for i,j in enumerate(spectrum):\n",
    "    ax = fig.add_subplot(gs1[i])\n",
    "    ax.plot(np.log(1/fr[:int(N/2)]),np.log(j[:int(N/2)]),'k',label=header[i])\n",
    "    ax.legend(loc=2)"
   ]
  },
  {
   "cell_type": "code",
   "execution_count": null,
   "metadata": {
    "collapsed": false
   },
   "outputs": [],
   "source": [
    "Para análise e interpretação confiáveis dos dados, o\n",
    "método MT depende diretamente da qualidade da estimativa dos elementos do tensor de\n",
    "impedância. Assim, é necessário que esta seja obtida com a maior precisão possível. Isso está\n",
    "relacionado a uma boa escolha do local instalação (e.g. áreas planas, afastadas de redes\n",
    "elétricas e torres de alta tensão) onde será realizada a sondagem MT, a um bom levantamento\n",
    "de dados e um processamento que tenha como objetivo eliminar ruídos dos sinais adquiridos.\n",
    "Objetiva-se dessa forma obter um conjunto de funções repetíveis e suaves que representem de\n",
    "forma adequada a resposta em subsuperfície"
   ]
  }
 ],
 "metadata": {
  "kernelspec": {
   "display_name": "Python 3",
   "language": "python",
   "name": "python3"
  },
  "language_info": {
   "codemirror_mode": {
    "name": "ipython",
    "version": 3
   },
   "file_extension": ".py",
   "mimetype": "text/x-python",
   "name": "python",
   "nbconvert_exporter": "python",
   "pygments_lexer": "ipython3",
   "version": "3.5.1"
  }
 },
 "nbformat": 4,
 "nbformat_minor": 0
}
