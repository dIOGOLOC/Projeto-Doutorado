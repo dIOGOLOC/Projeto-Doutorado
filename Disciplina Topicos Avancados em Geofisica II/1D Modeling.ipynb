{
 "cells": [
  {
   "cell_type": "code",
   "execution_count": 15,
   "metadata": {
    "collapsed": true
   },
   "outputs": [],
   "source": [
    "import numpy as np\n",
    "import obspy as op\n",
    "import os\n",
    "import matplotlib.pyplot as mpl\n",
    "import matplotlib.gridspec as gridspec\n",
    "#%matplotlib inline"
   ]
  },
  {
   "cell_type": "markdown",
   "metadata": {},
   "source": [
    "<h3 adjust='center'>chdir: change working directory </h3>"
   ]
  },
  {
   "cell_type": "code",
   "execution_count": 16,
   "metadata": {
    "collapsed": true
   },
   "outputs": [],
   "source": [
    "os.chdir('/home/diogo/Dropbox/UFRN/Topicos_avancados_em_Geofisica_II/MT1D/')"
   ]
  },
  {
   "cell_type": "code",
   "execution_count": 14,
   "metadata": {
    "collapsed": false
   },
   "outputs": [
    {
     "name": "stdout",
     "output_type": "stream",
     "text": [
      "\u001b[1;31m---------------------------------------------------------------------------\u001b[0m\r\n",
      "\u001b[1;31mKeyError\u001b[0m                                  Traceback (most recent call last)\r\n",
      "\u001b[1;32m/home/diogo/programs/anaconda3/lib/python3.5/configparser.py\u001b[0m in \u001b[0;36mget\u001b[1;34m(self, section, option, raw, vars, fallback)\u001b[0m\r\n",
      "\u001b[0;32m    785\u001b[0m         \u001b[1;32mtry\u001b[0m\u001b[1;33m:\u001b[0m\u001b[1;33m\u001b[0m\u001b[0m\r\n",
      "\u001b[1;32m--> 786\u001b[1;33m             \u001b[0mvalue\u001b[0m \u001b[1;33m=\u001b[0m \u001b[0md\u001b[0m\u001b[1;33m[\u001b[0m\u001b[0moption\u001b[0m\u001b[1;33m]\u001b[0m\u001b[1;33m\u001b[0m\u001b[0m\r\n",
      "\u001b[0m\u001b[0;32m    787\u001b[0m         \u001b[1;32mexcept\u001b[0m \u001b[0mKeyError\u001b[0m\u001b[1;33m:\u001b[0m\u001b[1;33m\u001b[0m\u001b[0m\r\n",
      "\r\n",
      "\u001b[1;32m/home/diogo/programs/anaconda3/lib/python3.5/collections/__init__.py\u001b[0m in \u001b[0;36m__getitem__\u001b[1;34m(self, key)\u001b[0m\r\n",
      "\u001b[0;32m    860\u001b[0m                 \u001b[1;32mpass\u001b[0m\u001b[1;33m\u001b[0m\u001b[0m\r\n",
      "\u001b[1;32m--> 861\u001b[1;33m         \u001b[1;32mreturn\u001b[0m \u001b[0mself\u001b[0m\u001b[1;33m.\u001b[0m\u001b[0m__missing__\u001b[0m\u001b[1;33m(\u001b[0m\u001b[0mkey\u001b[0m\u001b[1;33m)\u001b[0m            \u001b[1;31m# support subclasses that define __missing__\u001b[0m\u001b[1;33m\u001b[0m\u001b[0m\r\n",
      "\u001b[0m\u001b[0;32m    862\u001b[0m \u001b[1;33m\u001b[0m\u001b[0m\r\n",
      "\r\n",
      "\u001b[1;32m/home/diogo/programs/anaconda3/lib/python3.5/collections/__init__.py\u001b[0m in \u001b[0;36m__missing__\u001b[1;34m(self, key)\u001b[0m\r\n",
      "\u001b[0;32m    852\u001b[0m     \u001b[1;32mdef\u001b[0m \u001b[0m__missing__\u001b[0m\u001b[1;33m(\u001b[0m\u001b[0mself\u001b[0m\u001b[1;33m,\u001b[0m \u001b[0mkey\u001b[0m\u001b[1;33m)\u001b[0m\u001b[1;33m:\u001b[0m\u001b[1;33m\u001b[0m\u001b[0m\r\n",
      "\u001b[1;32m--> 853\u001b[1;33m         \u001b[1;32mraise\u001b[0m \u001b[0mKeyError\u001b[0m\u001b[1;33m(\u001b[0m\u001b[0mkey\u001b[0m\u001b[1;33m)\u001b[0m\u001b[1;33m\u001b[0m\u001b[0m\r\n",
      "\u001b[0m\u001b[0;32m    854\u001b[0m \u001b[1;33m\u001b[0m\u001b[0m\r\n",
      "\r\n",
      "\u001b[1;31mKeyError\u001b[0m: 'rholayeri'\r\n",
      "\r\n",
      "During handling of the above exception, another exception occurred:\r\n",
      "\r\n",
      "\u001b[1;31mNoOptionError\u001b[0m                             Traceback (most recent call last)\r\n",
      "\u001b[1;32m/home/diogo/Dropbox/UFRN/Topicos_avancados_em_Geofisica_II/MT1D/mt1d.py\u001b[0m in \u001b[0;36m<module>\u001b[1;34m()\u001b[0m\r\n",
      "\u001b[0;32m    302\u001b[0m \u001b[1;33m\u001b[0m\u001b[0m\r\n",
      "\u001b[0;32m    303\u001b[0m \u001b[1;32mif\u001b[0m \u001b[0m__name__\u001b[0m \u001b[1;33m==\u001b[0m \u001b[1;34m\"__main__\"\u001b[0m\u001b[1;33m:\u001b[0m\u001b[1;33m\u001b[0m\u001b[0m\r\n",
      "\u001b[1;32m--> 304\u001b[1;33m     \u001b[0mmain\u001b[0m\u001b[1;33m(\u001b[0m\u001b[1;33m)\u001b[0m\u001b[1;33m\u001b[0m\u001b[0m\r\n",
      "\u001b[0m\r\n",
      "\u001b[1;32m/home/diogo/Dropbox/UFRN/Topicos_avancados_em_Geofisica_II/MT1D/mt1d.py\u001b[0m in \u001b[0;36mmain\u001b[1;34m()\u001b[0m\r\n",
      "\u001b[0;32m    284\u001b[0m     \u001b[0mxModel\u001b[0m \u001b[1;33m=\u001b[0m \u001b[0mModel\u001b[0m\u001b[1;33m(\u001b[0m\u001b[1;33m)\u001b[0m\u001b[1;33m\u001b[0m\u001b[0m\r\n",
      "\u001b[0;32m    285\u001b[0m     \u001b[0mxMT\u001b[0m \u001b[1;33m=\u001b[0m \u001b[0mMT\u001b[0m\u001b[1;33m(\u001b[0m\u001b[1;33m)\u001b[0m\u001b[1;33m\u001b[0m\u001b[0m\r\n",
      "\u001b[1;32m--> 286\u001b[1;33m     \u001b[0mxModel\u001b[0m\u001b[1;33m,\u001b[0m \u001b[0mxMT\u001b[0m\u001b[1;33m,\u001b[0m \u001b[0mxPlot\u001b[0m \u001b[1;33m=\u001b[0m \u001b[0mgetparameters\u001b[0m\u001b[1;33m(\u001b[0m\u001b[1;33m)\u001b[0m\u001b[1;33m\u001b[0m\u001b[0m\r\n",
      "\u001b[0m\u001b[0;32m    287\u001b[0m     \u001b[0mprintmodel\u001b[0m\u001b[1;33m(\u001b[0m\u001b[0mxModel\u001b[0m\u001b[1;33m,\u001b[0m \u001b[0mxPlot\u001b[0m\u001b[1;33m)\u001b[0m\u001b[1;33m\u001b[0m\u001b[0m\r\n",
      "\u001b[0;32m    288\u001b[0m     \u001b[1;31m#plt.show()    # Uncomment this and comment the following line for debugging.\u001b[0m\u001b[1;33m\u001b[0m\u001b[1;33m\u001b[0m\u001b[0m\r\n",
      "\r\n",
      "\u001b[1;32m/home/diogo/Dropbox/UFRN/Topicos_avancados_em_Geofisica_II/MT1D/mt1d.py\u001b[0m in \u001b[0;36mgetparameters\u001b[1;34m()\u001b[0m\r\n",
      "\u001b[0;32m     82\u001b[0m     \u001b[1;32mfor\u001b[0m \u001b[0mi\u001b[0m \u001b[1;32min\u001b[0m \u001b[0mrange\u001b[0m\u001b[1;33m(\u001b[0m\u001b[1;36m1\u001b[0m\u001b[1;33m,\u001b[0m\u001b[0mModel\u001b[0m\u001b[1;33m.\u001b[0m\u001b[0mnlay\u001b[0m\u001b[1;33m)\u001b[0m\u001b[1;33m:\u001b[0m\u001b[1;33m\u001b[0m\u001b[0m\r\n",
      "\u001b[0;32m     83\u001b[0m         \u001b[0mt\u001b[0m \u001b[1;33m=\u001b[0m \u001b[0mrhostr\u001b[0m \u001b[1;33m+\u001b[0m \u001b[1;34m'i'\u001b[0m\u001b[1;33m\u001b[0m\u001b[0m\r\n",
      "\u001b[1;32m---> 84\u001b[1;33m         \u001b[0mModel\u001b[0m\u001b[1;33m.\u001b[0m\u001b[0mrho\u001b[0m\u001b[1;33m.\u001b[0m\u001b[0mappend\u001b[0m\u001b[1;33m(\u001b[0m \u001b[0mconfig\u001b[0m\u001b[1;33m.\u001b[0m\u001b[0mgetfloat\u001b[0m\u001b[1;33m(\u001b[0m\u001b[1;34m'MODEL'\u001b[0m\u001b[1;33m,\u001b[0m\u001b[0mt\u001b[0m\u001b[1;33m)\u001b[0m \u001b[1;33m)\u001b[0m\u001b[1;33m\u001b[0m\u001b[0m\r\n",
      "\u001b[0m\u001b[0;32m     85\u001b[0m         \u001b[0mt\u001b[0m \u001b[1;33m=\u001b[0m \u001b[0mthistr\u001b[0m \u001b[1;33m+\u001b[0m \u001b[1;34m'i'\u001b[0m\u001b[1;33m\u001b[0m\u001b[0m\r\n",
      "\u001b[0;32m     86\u001b[0m         \u001b[0mModel\u001b[0m\u001b[1;33m.\u001b[0m\u001b[0mthick\u001b[0m\u001b[1;33m.\u001b[0m\u001b[0mappend\u001b[0m\u001b[1;33m(\u001b[0m \u001b[0mconfig\u001b[0m\u001b[1;33m.\u001b[0m\u001b[0mgetfloat\u001b[0m\u001b[1;33m(\u001b[0m\u001b[1;34m'MODEL'\u001b[0m\u001b[1;33m,\u001b[0m\u001b[0mt\u001b[0m\u001b[1;33m)\u001b[0m \u001b[1;33m)\u001b[0m\u001b[1;33m\u001b[0m\u001b[0m\r\n",
      "\r\n",
      "\u001b[1;32m/home/diogo/programs/anaconda3/lib/python3.5/configparser.py\u001b[0m in \u001b[0;36mgetfloat\u001b[1;34m(self, section, option, raw, vars, fallback, **kwargs)\u001b[0m\r\n",
      "\u001b[0;32m    819\u001b[0m                  fallback=_UNSET, **kwargs):\r\n",
      "\u001b[0;32m    820\u001b[0m         return self._get_conv(section, option, float, raw=raw, vars=vars,\r\n",
      "\u001b[1;32m--> 821\u001b[1;33m                               fallback=fallback, **kwargs)\r\n",
      "\u001b[0m\u001b[0;32m    822\u001b[0m \u001b[1;33m\u001b[0m\u001b[0m\r\n",
      "\u001b[0;32m    823\u001b[0m     def getboolean(self, section, option, *, raw=False, vars=None,\r\n",
      "\r\n",
      "\u001b[1;32m/home/diogo/programs/anaconda3/lib/python3.5/configparser.py\u001b[0m in \u001b[0;36m_get_conv\u001b[1;34m(self, section, option, conv, raw, vars, fallback, **kwargs)\u001b[0m\r\n",
      "\u001b[0;32m    804\u001b[0m         \u001b[1;32mtry\u001b[0m\u001b[1;33m:\u001b[0m\u001b[1;33m\u001b[0m\u001b[0m\r\n",
      "\u001b[0;32m    805\u001b[0m             return self._get(section, conv, option, raw=raw, vars=vars,\r\n",
      "\u001b[1;32m--> 806\u001b[1;33m                              **kwargs)\r\n",
      "\u001b[0m\u001b[0;32m    807\u001b[0m         \u001b[1;32mexcept\u001b[0m \u001b[1;33m(\u001b[0m\u001b[0mNoSectionError\u001b[0m\u001b[1;33m,\u001b[0m \u001b[0mNoOptionError\u001b[0m\u001b[1;33m)\u001b[0m\u001b[1;33m:\u001b[0m\u001b[1;33m\u001b[0m\u001b[0m\r\n",
      "\u001b[0;32m    808\u001b[0m             \u001b[1;32mif\u001b[0m \u001b[0mfallback\u001b[0m \u001b[1;32mis\u001b[0m \u001b[0m_UNSET\u001b[0m\u001b[1;33m:\u001b[0m\u001b[1;33m\u001b[0m\u001b[0m\r\n",
      "\r\n",
      "\u001b[1;32m/home/diogo/programs/anaconda3/lib/python3.5/configparser.py\u001b[0m in \u001b[0;36m_get\u001b[1;34m(self, section, conv, option, **kwargs)\u001b[0m\r\n",
      "\u001b[0;32m    798\u001b[0m \u001b[1;33m\u001b[0m\u001b[0m\r\n",
      "\u001b[0;32m    799\u001b[0m     \u001b[1;32mdef\u001b[0m \u001b[0m_get\u001b[0m\u001b[1;33m(\u001b[0m\u001b[0mself\u001b[0m\u001b[1;33m,\u001b[0m \u001b[0msection\u001b[0m\u001b[1;33m,\u001b[0m \u001b[0mconv\u001b[0m\u001b[1;33m,\u001b[0m \u001b[0moption\u001b[0m\u001b[1;33m,\u001b[0m \u001b[1;33m**\u001b[0m\u001b[0mkwargs\u001b[0m\u001b[1;33m)\u001b[0m\u001b[1;33m:\u001b[0m\u001b[1;33m\u001b[0m\u001b[0m\r\n",
      "\u001b[1;32m--> 800\u001b[1;33m         \u001b[1;32mreturn\u001b[0m \u001b[0mconv\u001b[0m\u001b[1;33m(\u001b[0m\u001b[0mself\u001b[0m\u001b[1;33m.\u001b[0m\u001b[0mget\u001b[0m\u001b[1;33m(\u001b[0m\u001b[0msection\u001b[0m\u001b[1;33m,\u001b[0m \u001b[0moption\u001b[0m\u001b[1;33m,\u001b[0m \u001b[1;33m**\u001b[0m\u001b[0mkwargs\u001b[0m\u001b[1;33m)\u001b[0m\u001b[1;33m)\u001b[0m\u001b[1;33m\u001b[0m\u001b[0m\r\n",
      "\u001b[0m\u001b[0;32m    801\u001b[0m \u001b[1;33m\u001b[0m\u001b[0m\r\n",
      "\u001b[0;32m    802\u001b[0m     def _get_conv(self, section, option, conv, *, raw=False, vars=None,\r\n",
      "\r\n",
      "\u001b[1;32m/home/diogo/programs/anaconda3/lib/python3.5/configparser.py\u001b[0m in \u001b[0;36mget\u001b[1;34m(self, section, option, raw, vars, fallback)\u001b[0m\r\n",
      "\u001b[0;32m    787\u001b[0m         \u001b[1;32mexcept\u001b[0m \u001b[0mKeyError\u001b[0m\u001b[1;33m:\u001b[0m\u001b[1;33m\u001b[0m\u001b[0m\r\n",
      "\u001b[0;32m    788\u001b[0m             \u001b[1;32mif\u001b[0m \u001b[0mfallback\u001b[0m \u001b[1;32mis\u001b[0m \u001b[0m_UNSET\u001b[0m\u001b[1;33m:\u001b[0m\u001b[1;33m\u001b[0m\u001b[0m\r\n",
      "\u001b[1;32m--> 789\u001b[1;33m                 \u001b[1;32mraise\u001b[0m \u001b[0mNoOptionError\u001b[0m\u001b[1;33m(\u001b[0m\u001b[0moption\u001b[0m\u001b[1;33m,\u001b[0m \u001b[0msection\u001b[0m\u001b[1;33m)\u001b[0m\u001b[1;33m\u001b[0m\u001b[0m\r\n",
      "\u001b[0m\u001b[0;32m    790\u001b[0m             \u001b[1;32melse\u001b[0m\u001b[1;33m:\u001b[0m\u001b[1;33m\u001b[0m\u001b[0m\r\n",
      "\u001b[0;32m    791\u001b[0m                 \u001b[1;32mreturn\u001b[0m \u001b[0mfallback\u001b[0m\u001b[1;33m\u001b[0m\u001b[0m\r\n",
      "\r\n",
      "\u001b[1;31mNoOptionError\u001b[0m: No option 'rholayeri' in section: 'MODEL'\r\n"
     ]
    }
   ],
   "source": [
    "!ipython mt1d.py"
   ]
  },
  {
   "cell_type": "code",
   "execution_count": 6,
   "metadata": {
    "collapsed": false
   },
   "outputs": [
    {
     "ename": "NameError",
     "evalue": "name 'model' is not defined",
     "output_type": "error",
     "traceback": [
      "\u001b[1;31m---------------------------------------------------------------------------\u001b[0m",
      "\u001b[1;31mNameError\u001b[0m                                 Traceback (most recent call last)",
      "\u001b[1;32m<ipython-input-6-ae51229d00c9>\u001b[0m in \u001b[0;36m<module>\u001b[1;34m()\u001b[0m\n\u001b[1;32m----> 1\u001b[1;33m \u001b[0mmodel\u001b[0m\u001b[1;33m.\u001b[0m\u001b[0mini\u001b[0m\u001b[1;33m\u001b[0m\u001b[0m\n\u001b[0m",
      "\u001b[1;31mNameError\u001b[0m: name 'model' is not defined"
     ]
    }
   ],
   "source": [
    "model.ini"
   ]
  },
  {
   "cell_type": "code",
   "execution_count": 10,
   "metadata": {
    "collapsed": false
   },
   "outputs": [
    {
     "name": "stdout",
     "output_type": "stream",
     "text": [
      "Python 3.5.1 |Anaconda 2.5.0 (64-bit)| (default, Dec  7 2015, 11:16:01) \n",
      "Type \"copyright\", \"credits\" or \"license\" for more information.\n",
      "\n",
      "IPython 4.0.3 -- An enhanced Interactive Python.\n",
      "?         -> Introduction and overview of IPython's features.\n",
      "%quickref -> Quick reference.\n",
      "help      -> Python's own help system.\n",
      "object?   -> Details about 'object', use 'object??' for extra details.\n",
      "\n",
      "\u001b[0;32mIn [\u001b[1;32m1\u001b[0;32m]: \u001b[0m\n",
      "KeyboardInterrupt\n",
      "\n",
      "\u001b[0;32mIn [\u001b[1;32m1\u001b[0;32m]: \u001b[0m\n",
      "\n",
      "\u001b[0;32mIn [\u001b[1;32m1\u001b[0;32m]: \u001b[0m"
     ]
    }
   ],
   "source": []
  },
  {
   "cell_type": "code",
   "execution_count": null,
   "metadata": {
    "collapsed": true
   },
   "outputs": [],
   "source": []
  }
 ],
 "metadata": {
  "kernelspec": {
   "display_name": "Python 3",
   "language": "python",
   "name": "python3"
  },
  "language_info": {
   "codemirror_mode": {
    "name": "ipython",
    "version": 3
   },
   "file_extension": ".py",
   "mimetype": "text/x-python",
   "name": "python",
   "nbconvert_exporter": "python",
   "pygments_lexer": "ipython3",
   "version": "3.5.1"
  }
 },
 "nbformat": 4,
 "nbformat_minor": 0
}
